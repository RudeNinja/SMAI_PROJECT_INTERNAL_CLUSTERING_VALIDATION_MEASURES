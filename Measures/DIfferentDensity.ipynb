{
 "cells": [
  {
   "cell_type": "code",
   "execution_count": 1,
   "metadata": {},
   "outputs": [],
   "source": [
    "import numpy as np\n",
    "import pandas as pd\n",
    "from matplotlib import pyplot as plt\n",
    "from sklearn.cluster import KMeans\n"
   ]
  },
  {
   "cell_type": "code",
   "execution_count": 2,
   "metadata": {},
   "outputs": [],
   "source": [
    "from RMSSTD import RMSSTD\n",
    "from R_squared import r_squared\n",
    "from SD_validity import SD_validity_index\n",
    "from Hubert_statistic import modified_hubert_statistic\n",
    "from Silhouette import silhoutte_index\n",
    "from Sdb_w import s_dbw\n",
    "from I import I_index\n",
    "from Dunn import dunn_index\n",
    "from Xie_Beni import Xie_Beni_Index\n",
    "from CH import calinski_harabasz_index\n",
    "from Davies_Bouldin import Davies_Bouldin_Index"
   ]
  },
  {
   "cell_type": "code",
   "execution_count": 3,
   "metadata": {},
   "outputs": [
    {
     "name": "stdout",
     "output_type": "stream",
     "text": [
      "(250, 2)\n"
     ]
    },
    {
     "data": {
      "text/plain": [
       "Text(0.5, 1.0, 'Sub Clustered Dataset')"
      ]
     },
     "execution_count": 3,
     "metadata": {},
     "output_type": "execute_result"
    },
    {
     "data": {
      "image/png": "[encoded data removed]",
      "text/plain": [
       "<Figure size 640x480 with 1 Axes>"
      ]
     },
     "metadata": {},
     "output_type": "display_data"
    }
   ],
   "source": [
    "arr = np.loadtxt(\"../Datasets/DifferentDensity.csv\",delimiter=',')\n",
    "print(arr.shape)\n",
    "plt.plot(arr[:,0],arr[:,1],'.')\n",
    "plt.title('Sub Clustered Dataset')"
   ]
  },
  {
   "cell_type": "code",
   "execution_count": 4,
   "metadata": {},
   "outputs": [],
   "source": [
    "cluster_centres_list=[]\n",
    "pt_label_list=[]\n",
    "for j in range(2,10):\n",
    "    kmeans = KMeans(n_clusters=j).fit(arr)\n",
    "    cluster_centres = kmeans.cluster_centers_\n",
    "    pt_label = kmeans.labels_\n",
    "    cluster_centres_list.append(cluster_centres)\n",
    "    pt_label_list.append(pt_label)\n"
   ]
  },
  {
   "cell_type": "code",
   "execution_count": 5,
   "metadata": {},
   "outputs": [
    {
     "name": "stdout",
     "output_type": "stream",
     "text": [
      "Number of Clusters: 2  𝑅𝑀𝑆𝑆𝑇𝐷: 2.983384147313703\n",
      "Number of Clusters: 3  𝑅𝑀𝑆𝑆𝑇𝐷: 1.5953416883032503\n",
      "Number of Clusters: 4  𝑅𝑀𝑆𝑆𝑇𝐷: 1.3240056327420942\n",
      "Number of Clusters: 5  𝑅𝑀𝑆𝑆𝑇𝐷: 1.4290882562222882\n",
      "Number of Clusters: 6  𝑅𝑀𝑆𝑆𝑇𝐷: 1.2137588264016623\n",
      "Number of Clusters: 7  𝑅𝑀𝑆𝑆𝑇𝐷: 1.1476715891906273\n",
      "Number of Clusters: 8  𝑅𝑀𝑆𝑆𝑇𝐷: 1.3098221609129852\n",
      "Number of Clusters: 9  𝑅𝑀𝑆𝑆𝑇𝐷: 1.141754935786008\n"
     ]
    }
   ],
   "source": [
    "RMSSTD(arr,cluster_centres_list,pt_label_list)"
   ]
  },
  {
   "cell_type": "code",
   "execution_count": 6,
   "metadata": {},
   "outputs": [
    {
     "name": "stdout",
     "output_type": "stream",
     "text": [
      "Number of clusters: 2 RS:  0.9999673602180433\n",
      "Number of clusters: 3 RS:  0.9999936691775332\n",
      "Number of clusters: 4 RS:  0.9999946499840158\n",
      "Number of clusters: 5 RS:  0.9999953272424513\n",
      "Number of clusters: 6 RS:  0.9999959133008796\n",
      "Number of clusters: 7 RS:  0.9999964685167165\n",
      "Number of clusters: 8 RS:  0.9999969769307753\n",
      "Number of clusters: 9 RS:  0.9999972743921623\n"
     ]
    }
   ],
   "source": [
    "r_squared(arr,cluster_centres_list,pt_label_list)"
   ]
  },
  {
   "cell_type": "code",
   "execution_count": 7,
   "metadata": {},
   "outputs": [
    {
     "name": "stdout",
     "output_type": "stream",
     "text": [
      "Number of clusters: 2 Modified Hubert Statistic:  1757.9471812117145\n",
      "Number of clusters: 3 Modified Hubert Statistic:  2212.5346671297825\n",
      "Number of clusters: 4 Modified Hubert Statistic:  2228.0741378574758\n",
      "Number of clusters: 5 Modified Hubert Statistic:  2241.521655019426\n",
      "Number of clusters: 6 Modified Hubert Statistic:  2245.7241830649577\n",
      "Number of clusters: 7 Modified Hubert Statistic:  2253.4130171417596\n",
      "Number of clusters: 8 Modified Hubert Statistic:  2259.2022959035785\n",
      "Number of clusters: 9 Modified Hubert Statistic:  2262.843840031688\n"
     ]
    }
   ],
   "source": [
    "modified_hubert_statistic(arr,cluster_centres_list,pt_label_list)"
   ]
  },
  {
   "cell_type": "code",
   "execution_count": 8,
   "metadata": {},
   "outputs": [
    {
     "name": "stdout",
     "output_type": "stream",
     "text": [
      "Number of clusters: 2 Calinski-Harabasz Index:  632.4591422399144\n",
      "Number of clusters: 3 Calinski-Harabasz Index:  2137.0368863733897\n",
      "Number of clusters: 4 Calinski-Harabasz Index:  1694.084189218456\n",
      "Number of clusters: 5 Calinski-Harabasz Index:  1457.6795132039533\n",
      "Number of clusters: 6 Calinski-Harabasz Index:  1334.9318360140212\n",
      "Number of clusters: 7 Calinski-Harabasz Index:  1288.431646874915\n",
      "Number of clusters: 8 Calinski-Harabasz Index:  1290.6059363758952\n",
      "Number of clusters: 9 Calinski-Harabasz Index:  1250.6370822928682\n"
     ]
    }
   ],
   "source": [
    "calinski_harabasz_index(arr,cluster_centres_list,pt_label_list)"
   ]
  },
  {
   "cell_type": "code",
   "execution_count": 9,
   "metadata": {},
   "outputs": [
    {
     "name": "stdout",
     "output_type": "stream",
     "text": [
      "1529.2220457649164\n",
      "Number of clusters: 2 I Index:  132.08671033544283\n",
      "Number of clusters: 3 I Index:  525.1602282456613\n",
      "Number of clusters: 4 I Index:  369.220585934918\n",
      "Number of clusters: 5 I Index:  283.9161591084426\n",
      "Number of clusters: 6 I Index:  211.13931767604765\n",
      "Number of clusters: 7 I Index:  181.60262453256834\n",
      "Number of clusters: 8 I Index:  171.4695474942319\n",
      "Number of clusters: 9 I Index:  161.1708498415432\n"
     ]
    }
   ],
   "source": [
    "I_index(arr,cluster_centres_list,pt_label_list)"
   ]
  },
  {
   "cell_type": "code",
   "execution_count": 10,
   "metadata": {},
   "outputs": [
    {
     "name": "stdout",
     "output_type": "stream",
     "text": [
      "Number of clusters: 2 Dunn Index:  0.6298183289465432\n",
      "Number of clusters: 3 Dunn Index:  0.8906427685301529\n",
      "Number of clusters: 4 Dunn Index:  0.06666987370419285\n",
      "Number of clusters: 5 Dunn Index:  0.193934320695419\n",
      "Number of clusters: 6 Dunn Index:  0.08893457225679798\n",
      "Number of clusters: 7 Dunn Index:  0.1227076008124207\n",
      "Number of clusters: 8 Dunn Index:  0.049335794400816424\n",
      "Number of clusters: 9 Dunn Index:  0.1363952112288468\n"
     ]
    }
   ],
   "source": [
    "dunn_index(arr,pt_label_list)"
   ]
  },
  {
   "cell_type": "code",
   "execution_count": 11,
   "metadata": {},
   "outputs": [
    {
     "name": "stdout",
     "output_type": "stream",
     "text": [
      "Number of clusters: 2 Silhoutte Index:  0.48408819321974506\n",
      "Number of clusters: 3 Silhoutte Index:  0.6708144910292372\n",
      "Number of clusters: 4 Silhoutte Index:  0.49240482359839793\n",
      "Number of clusters: 5 Silhoutte Index:  0.5137462498972012\n",
      "Number of clusters: 6 Silhoutte Index:  0.5992612026979317\n",
      "Number of clusters: 7 Silhoutte Index:  0.5217318791503839\n",
      "Number of clusters: 8 Silhoutte Index:  0.5018742384030602\n",
      "Number of clusters: 9 Silhoutte Index:  0.5719211212319325\n"
     ]
    }
   ],
   "source": [
    "silhoutte_index(arr,cluster_centres_list,pt_label_list)"
   ]
  },
  {
   "cell_type": "code",
   "execution_count": 12,
   "metadata": {},
   "outputs": [
    {
     "name": "stdout",
     "output_type": "stream",
     "text": [
      "Number of clusters: 2 Davies-Bouldin Index:  0.9250241764406799\n",
      "Number of clusters: 3 Davies-Bouldin Index:  0.9867288102810281\n",
      "Number of clusters: 4 Davies-Bouldin Index:  3.137536552243831\n",
      "Number of clusters: 5 Davies-Bouldin Index:  5.114627899519643\n",
      "Number of clusters: 6 Davies-Bouldin Index:  5.756426852711836\n",
      "Number of clusters: 7 Davies-Bouldin Index:  5.841231512198485\n",
      "Number of clusters: 8 Davies-Bouldin Index:  7.845858409664885\n",
      "Number of clusters: 9 Davies-Bouldin Index:  8.449307226188193\n"
     ]
    }
   ],
   "source": [
    "Davies_Bouldin_Index(arr,cluster_centres_list,pt_label_list)"
   ]
  },
  {
   "cell_type": "code",
   "execution_count": 13,
   "metadata": {},
   "outputs": [
    {
     "name": "stdout",
     "output_type": "stream",
     "text": [
      "Number of clusters: 2 Xie Beni Index:  21.331338420090866\n",
      "Number of clusters: 3 Xie Beni Index:  10.191545265777691\n",
      "Number of clusters: 4 Xie Beni Index:  106.63960153826825\n",
      "Number of clusters: 5 Xie Beni Index:  114.89665088919979\n",
      "Number of clusters: 6 Xie Beni Index:  122.62794158920208\n",
      "Number of clusters: 7 Xie Beni Index:  97.35057367311673\n",
      "Number of clusters: 8 Xie Beni Index:  133.97825892994229\n",
      "Number of clusters: 9 Xie Beni Index:  119.34254958979983\n"
     ]
    }
   ],
   "source": [
    "Xie_Beni_Index(arr,cluster_centres_list,pt_label_list)"
   ]
  },
  {
   "cell_type": "code",
   "execution_count": 14,
   "metadata": {},
   "outputs": [
    {
     "name": "stdout",
     "output_type": "stream",
     "text": [
      "Number of clusters: 2 SD Validity Index:  0.614224812605958\n",
      "Number of clusters: 3 SD Validity Index:  0.5168946212801572\n",
      "Number of clusters: 4 SD Validity Index:  1.2442077123334097\n",
      "Number of clusters: 5 SD Validity Index:  1.447221824261456\n",
      "Number of clusters: 6 SD Validity Index:  1.5413377969905655\n",
      "Number of clusters: 7 SD Validity Index:  1.5022240010927879\n",
      "Number of clusters: 8 SD Validity Index:  1.7218147866631857\n",
      "Number of clusters: 9 SD Validity Index:  1.7325828350055528\n"
     ]
    }
   ],
   "source": [
    "SD_validity_index(arr,cluster_centres_list,pt_label_list)"
   ]
  },
  {
   "cell_type": "code",
   "execution_count": 15,
   "metadata": {},
   "outputs": [
    {
     "name": "stdout",
     "output_type": "stream",
     "text": [
      "Number of clusters: 2 S_Dbw: 1.040342967115471\n",
      "Number of clusters: 3 S_Dbw: 0.2601416927544134\n",
      "Number of clusters: 4 S_Dbw: 0.6090721180512298\n",
      "Number of clusters: 5 S_Dbw: 0.639474699419227\n",
      "Number of clusters: 6 S_Dbw: 0.7783660882230673\n",
      "Number of clusters: 7 S_Dbw: 0.7997826490840996\n",
      "Number of clusters: 8 S_Dbw: 0.7265993447356142\n",
      "Number of clusters: 9 S_Dbw: 0.6420901651626552\n"
     ]
    }
   ],
   "source": [
    "s_dbw(arr,cluster_centres_list,pt_label_list)"
   ]
  }
 ],
 "metadata": {
  "kernelspec": {
   "display_name": "Python 3.8.10 64-bit",
   "language": "python",
   "name": "python3"
  },
  "language_info": {
   "codemirror_mode": {
    "name": "ipython",
    "version": 3
   },
   "file_extension": ".py",
   "mimetype": "text/x-python",
   "name": "python",
   "nbconvert_exporter": "python",
   "pygments_lexer": "ipython3",
   "version": "3.8.10"
  },
  "orig_nbformat": 4,
  "vscode": {
   "interpreter": {
    "hash": "5b3ded1ccb95c1d9bd405e7b823d9e85424cde40fbb5985eb47e999ef50e15b4"
   }
  }
 },
 "nbformat": 4,
 "nbformat_minor": 2
}
