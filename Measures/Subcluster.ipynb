{
 "cells": [
  {
   "cell_type": "code",
   "execution_count": 1,
   "metadata": {},
   "outputs": [],
   "source": [
    "import numpy as np\n",
    "import pandas as pd\n",
    "from matplotlib import pyplot as plt\n",
    "from sklearn.cluster import KMeans\n"
   ]
  },
  {
   "cell_type": "code",
   "execution_count": 2,
   "metadata": {},
   "outputs": [],
   "source": [
    "from RMSSTD import RMSSTD\n",
    "from R_squared import r_squared\n",
    "from SD_validity import SD_validity_index\n",
    "from Hubert_statistic import modified_hubert_statistic\n",
    "from Silhouette import silhoutte_index\n",
    "from Sdb_w import s_dbw\n",
    "from I import I_index\n",
    "from Dunn import dunn_index\n",
    "from Xie_Beni import Xie_Beni_Index\n",
    "from CH import calinski_harabasz_index\n",
    "from Davies_Bouldin import Davies_Bouldin_Index"
   ]
  },
  {
   "cell_type": "code",
   "execution_count": 3,
   "metadata": {},
   "outputs": [
    {
     "name": "stdout",
     "output_type": "stream",
     "text": [
      "(250, 2)\n"
     ]
    },
    {
     "data": {
      "text/plain": [
       "Text(0.5, 1.0, 'Sub Clustered Dataset')"
      ]
     },
     "execution_count": 3,
     "metadata": {},
     "output_type": "execute_result"
    },
    {
     "data": {
      "image/png": "[encoded data removed]",
      "text/plain": [
       "<Figure size 640x480 with 1 Axes>"
      ]
     },
     "metadata": {},
     "output_type": "display_data"
    }
   ],
   "source": [
    "arr = np.loadtxt(\"../Datasets/Subcluster.csv\",delimiter=',')\n",
    "print(arr.shape)\n",
    "plt.plot(arr[:,0],arr[:,1],'.')\n",
    "plt.title('Sub Clustered Dataset')"
   ]
  },
  {
   "cell_type": "code",
   "execution_count": 4,
   "metadata": {},
   "outputs": [],
   "source": [
    "cluster_centres_list=[]\n",
    "pt_label_list=[]\n",
    "for j in range(2,10):\n",
    "    kmeans = KMeans(n_clusters=j).fit(arr)\n",
    "    cluster_centres = kmeans.cluster_centers_\n",
    "    pt_label = kmeans.labels_\n",
    "    cluster_centres_list.append(cluster_centres)\n",
    "    pt_label_list.append(pt_label)\n"
   ]
  },
  {
   "cell_type": "code",
   "execution_count": 5,
   "metadata": {},
   "outputs": [
    {
     "name": "stdout",
     "output_type": "stream",
     "text": [
      "Number of Clusters: 2  𝑅𝑀𝑆𝑆𝑇𝐷: 2.0486182510650934\n",
      "Number of Clusters: 3  𝑅𝑀𝑆𝑆𝑇𝐷: 1.5433067831315357\n",
      "Number of Clusters: 4  𝑅𝑀𝑆𝑆𝑇𝐷: 1.2271660736442458\n",
      "Number of Clusters: 5  𝑅𝑀𝑆𝑆𝑇𝐷: 0.9393673548383472\n",
      "Number of Clusters: 6  𝑅𝑀𝑆𝑆𝑇𝐷: 0.8850149665386249\n",
      "Number of Clusters: 7  𝑅𝑀𝑆𝑆𝑇𝐷: 0.8120461717396911\n",
      "Number of Clusters: 8  𝑅𝑀𝑆𝑆𝑇𝐷: 0.8107031507596095\n",
      "Number of Clusters: 9  𝑅𝑀𝑆𝑆𝑇𝐷: 0.7640784829312609\n"
     ]
    }
   ],
   "source": [
    "RMSSTD(arr,cluster_centres_list,pt_label_list)"
   ]
  },
  {
   "cell_type": "code",
   "execution_count": 6,
   "metadata": {},
   "outputs": [
    {
     "name": "stdout",
     "output_type": "stream",
     "text": [
      "Number of clusters: 2 RS:  0.9999314178893962\n",
      "Number of clusters: 3 RS:  0.9999664729644078\n",
      "Number of clusters: 4 RS:  0.9999836511706107\n",
      "Number of clusters: 5 RS:  0.9999913658049916\n",
      "Number of clusters: 6 RS:  0.9999923381954533\n",
      "Number of clusters: 7 RS:  0.9999931409945139\n",
      "Number of clusters: 8 RS:  0.9999938231102986\n",
      "Number of clusters: 9 RS:  0.9999943852053079\n"
     ]
    }
   ],
   "source": [
    "r_squared(arr,cluster_centres_list,pt_label_list)"
   ]
  },
  {
   "cell_type": "code",
   "execution_count": 7,
   "metadata": {},
   "outputs": [
    {
     "name": "stdout",
     "output_type": "stream",
     "text": [
      "Number of clusters: 2 Modified Hubert Statistic:  470.4125497814859\n",
      "Number of clusters: 3 Modified Hubert Statistic:  530.0817882610907\n",
      "Number of clusters: 4 Modified Hubert Statistic:  577.0735455971309\n",
      "Number of clusters: 5 Modified Hubert Statistic:  589.8293874060811\n",
      "Number of clusters: 6 Modified Hubert Statistic:  591.3971619529995\n",
      "Number of clusters: 7 Modified Hubert Statistic:  593.0898984681795\n",
      "Number of clusters: 8 Modified Hubert Statistic:  594.895956540244\n",
      "Number of clusters: 9 Modified Hubert Statistic:  596.0806216312138\n"
     ]
    }
   ],
   "source": [
    "modified_hubert_statistic(arr,cluster_centres_list,pt_label_list)"
   ]
  },
  {
   "cell_type": "code",
   "execution_count": 8,
   "metadata": {},
   "outputs": [
    {
     "name": "stdout",
     "output_type": "stream",
     "text": [
      "Number of clusters: 2 Calinski-Harabasz Index:  559.3729385184157\n",
      "Number of clusters: 3 Calinski-Harabasz Index:  698.9417646960875\n",
      "Number of clusters: 4 Calinski-Harabasz Index:  1037.8517805020317\n",
      "Number of clusters: 5 Calinski-Harabasz Index:  1522.612928622581\n",
      "Number of clusters: 6 Calinski-Harabasz Index:  1373.2737087167275\n",
      "Number of clusters: 7 Calinski-Harabasz Index:  1277.8393863748258\n",
      "Number of clusters: 8 Calinski-Harabasz Index:  1215.0568189888295\n",
      "Number of clusters: 9 Calinski-Harabasz Index:  1167.7914508171739\n"
     ]
    }
   ],
   "source": [
    "calinski_harabasz_index(arr,cluster_centres_list,pt_label_list)"
   ]
  },
  {
   "cell_type": "code",
   "execution_count": 9,
   "metadata": {},
   "outputs": [
    {
     "name": "stdout",
     "output_type": "stream",
     "text": [
      "1051.3464735932291\n",
      "Number of clusters: 2 I Index:  48.40003312063218\n",
      "Number of clusters: 3 I Index:  51.327817967026135\n",
      "Number of clusters: 4 I Index:  95.93914686922949\n",
      "Number of clusters: 5 I Index:  112.49001172347923\n",
      "Number of clusters: 6 I Index:  91.45339196287705\n",
      "Number of clusters: 7 I Index:  75.75427374079686\n",
      "Number of clusters: 8 I Index:  65.16012853135739\n",
      "Number of clusters: 9 I Index:  56.49990497256791\n"
     ]
    }
   ],
   "source": [
    "I_index(arr,cluster_centres_list,pt_label_list)"
   ]
  },
  {
   "cell_type": "code",
   "execution_count": 10,
   "metadata": {},
   "outputs": [
    {
     "name": "stdout",
     "output_type": "stream",
     "text": [
      "Number of clusters: 2 Dunn Index:  0.7955238412678505\n",
      "Number of clusters: 3 Dunn Index:  0.20330664083848576\n",
      "Number of clusters: 4 Dunn Index:  0.229601372034738\n",
      "Number of clusters: 5 Dunn Index:  0.3596139732451019\n",
      "Number of clusters: 6 Dunn Index:  0.11564698934521878\n",
      "Number of clusters: 7 Dunn Index:  0.1586973720347001\n",
      "Number of clusters: 8 Dunn Index:  0.08442282942263446\n",
      "Number of clusters: 9 Dunn Index:  0.15805851927386336\n"
     ]
    }
   ],
   "source": [
    "dunn_index(arr,pt_label_list)"
   ]
  },
  {
   "cell_type": "code",
   "execution_count": 11,
   "metadata": {},
   "outputs": [
    {
     "name": "stdout",
     "output_type": "stream",
     "text": [
      "Number of clusters: 2 Silhoutte Index:  0.48022411763167816\n",
      "Number of clusters: 3 Silhoutte Index:  0.5528834527460348\n",
      "Number of clusters: 4 Silhoutte Index:  0.7713369340622549\n",
      "Number of clusters: 5 Silhoutte Index:  0.693742811190388\n",
      "Number of clusters: 6 Silhoutte Index:  0.41716813852207263\n",
      "Number of clusters: 7 Silhoutte Index:  0.5896962443438879\n",
      "Number of clusters: 8 Silhoutte Index:  0.6097840006094484\n",
      "Number of clusters: 9 Silhoutte Index:  0.6055648934832027\n"
     ]
    }
   ],
   "source": [
    "silhoutte_index(arr,cluster_centres_list,pt_label_list)"
   ]
  },
  {
   "cell_type": "code",
   "execution_count": 12,
   "metadata": {},
   "outputs": [
    {
     "name": "stdout",
     "output_type": "stream",
     "text": [
      "Number of clusters: 2 Davies-Bouldin Index:  1.187922430993939\n",
      "Number of clusters: 3 Davies-Bouldin Index:  1.425280538083309\n",
      "Number of clusters: 4 Davies-Bouldin Index:  1.7290089021463797\n",
      "Number of clusters: 5 Davies-Bouldin Index:  2.4201728719886035\n",
      "Number of clusters: 6 Davies-Bouldin Index:  3.663915509239719\n",
      "Number of clusters: 7 Davies-Bouldin Index:  5.118513966581899\n",
      "Number of clusters: 8 Davies-Bouldin Index:  6.489027224706906\n",
      "Number of clusters: 9 Davies-Bouldin Index:  8.792374883264953\n"
     ]
    }
   ],
   "source": [
    "Davies_Bouldin_Index(arr,cluster_centres_list,pt_label_list)"
   ]
  },
  {
   "cell_type": "code",
   "execution_count": 13,
   "metadata": {},
   "outputs": [
    {
     "name": "stdout",
     "output_type": "stream",
     "text": [
      "Number of clusters: 2 Xie Beni Index:  26.601215352698226\n",
      "Number of clusters: 3 Xie Beni Index:  33.31495956232008\n",
      "Number of clusters: 4 Xie Beni Index:  23.79298105415475\n",
      "Number of clusters: 5 Xie Beni Index:  25.82169265440442\n",
      "Number of clusters: 6 Xie Beni Index:  94.55219707181206\n",
      "Number of clusters: 7 Xie Beni Index:  105.26039671595005\n",
      "Number of clusters: 8 Xie Beni Index:  94.79243918691402\n",
      "Number of clusters: 9 Xie Beni Index:  117.43913796792208\n"
     ]
    }
   ],
   "source": [
    "Xie_Beni_Index(arr,cluster_centres_list,pt_label_list)"
   ]
  },
  {
   "cell_type": "code",
   "execution_count": 14,
   "metadata": {},
   "outputs": [
    {
     "name": "stdout",
     "output_type": "stream",
     "text": [
      "Number of clusters: 2 SD Validity Index:  0.8081968591137112\n",
      "Number of clusters: 3 SD Validity Index:  0.7405444030515076\n",
      "Number of clusters: 4 SD Validity Index:  0.7437571367751823\n",
      "Number of clusters: 5 SD Validity Index:  0.9176863728899846\n",
      "Number of clusters: 6 SD Validity Index:  1.7581269761260176\n",
      "Number of clusters: 7 SD Validity Index:  1.9872464710643087\n",
      "Number of clusters: 8 SD Validity Index:  1.8735538790501813\n",
      "Number of clusters: 9 SD Validity Index:  2.1964658508562613\n"
     ]
    }
   ],
   "source": [
    "SD_validity_index(arr,cluster_centres_list,pt_label_list)"
   ]
  },
  {
   "cell_type": "code",
   "execution_count": 15,
   "metadata": {},
   "outputs": [
    {
     "name": "stdout",
     "output_type": "stream",
     "text": [
      "Number of clusters: 2 S_Dbw: 1.0643224147555246\n",
      "Number of clusters: 3 S_Dbw: 0.8496724913507592\n",
      "Number of clusters: 4 S_Dbw: 0.3788862164259825\n",
      "Number of clusters: 5 S_Dbw: 0.3592774903104059\n",
      "Number of clusters: 6 S_Dbw: 0.40883601811613\n",
      "Number of clusters: 7 S_Dbw: 0.43804885090742407\n",
      "Number of clusters: 8 S_Dbw: 0.39846676938302394\n",
      "Number of clusters: 9 S_Dbw: 0.4218640101928597\n"
     ]
    }
   ],
   "source": [
    "s_dbw(arr,cluster_centres_list,pt_label_list)"
   ]
  }
 ],
 "metadata": {
  "kernelspec": {
   "display_name": "Python 3.8.10 64-bit",
   "language": "python",
   "name": "python3"
  },
  "language_info": {
   "codemirror_mode": {
    "name": "ipython",
    "version": 3
   },
   "file_extension": ".py",
   "mimetype": "text/x-python",
   "name": "python",
   "nbconvert_exporter": "python",
   "pygments_lexer": "ipython3",
   "version": "3.8.10"
  },
  "orig_nbformat": 4,
  "vscode": {
   "interpreter": {
    "hash": "5b3ded1ccb95c1d9bd405e7b823d9e85424cde40fbb5985eb47e999ef50e15b4"
   }
  }
 },
 "nbformat": 4,
 "nbformat_minor": 2
}
