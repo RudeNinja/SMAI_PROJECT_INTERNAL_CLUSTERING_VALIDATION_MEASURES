{
 "cells": [
  {
   "cell_type": "code",
   "execution_count": 60,
   "metadata": {},
   "outputs": [],
   "source": [
    "import numpy as np\n",
    "import pandas as pd\n",
    "from matplotlib import pyplot as plt\n",
    "from sklearn.cluster import KMeans\n"
   ]
  },
  {
   "cell_type": "code",
   "execution_count": 61,
   "metadata": {},
   "outputs": [],
   "source": [
    "from RMSSTD import RMSSTD\n",
    "from R_squared import r_squared\n",
    "from SD_validity import SD_validity_index\n",
    "from Hubert_statistic import modified_hubert_statistic\n",
    "from Silhouette import silhoutte_index\n",
    "from Sdb_w import s_dbw\n",
    "from I import I_index\n",
    "from Dunn import dunn_index\n",
    "from Xie_Beni import Xie_Beni_Index\n",
    "from CH import calinski_harabasz_index\n",
    "from Davies_Bouldin import Davies_Bouldin_Index"
   ]
  },
  {
   "cell_type": "code",
   "execution_count": 62,
   "metadata": {},
   "outputs": [
    {
     "name": "stdout",
     "output_type": "stream",
     "text": [
      "(255, 2)\n"
     ]
    },
    {
     "data": {
      "text/plain": [
       "Text(0.5, 1.0, 'Well Separated Dataset')"
      ]
     },
     "execution_count": 62,
     "metadata": {},
     "output_type": "execute_result"
    },
    {
     "data": {
      "image/png": "[encoded data removed]",
      "text/plain": [
       "<Figure size 640x480 with 1 Axes>"
      ]
     },
     "metadata": {},
     "output_type": "display_data"
    }
   ],
   "source": [
    "arr = np.loadtxt(\"../Datasets/Noisy_Wellseparated.csv\",delimiter=',')\n",
    "print(arr.shape)\n",
    "plt.plot(arr[:,0],arr[:,1],'.')\n",
    "plt.title('Well Separated Dataset')"
   ]
  },
  {
   "cell_type": "code",
   "execution_count": 63,
   "metadata": {},
   "outputs": [],
   "source": [
    "cluster_centres_list=[]\n",
    "pt_label_list=[]\n",
    "for j in range(2,10):\n",
    "    kmeans = KMeans(n_clusters=j).fit(arr)\n",
    "    cluster_centres = kmeans.cluster_centers_\n",
    "    pt_label = kmeans.labels_\n",
    "    cluster_centres_list.append(cluster_centres)\n",
    "    pt_label_list.append(pt_label)\n"
   ]
  },
  {
   "cell_type": "code",
   "execution_count": 64,
   "metadata": {},
   "outputs": [
    {
     "name": "stdout",
     "output_type": "stream",
     "text": [
      "Number of Clusters: 2  𝑅𝑀𝑆𝑆𝑇𝐷: 4.871355243424189\n",
      "Number of Clusters: 3  𝑅𝑀𝑆𝑆𝑇𝐷: 2.6661261761303505\n",
      "Number of Clusters: 4  𝑅𝑀𝑆𝑆𝑇𝐷: 2.1200591817803387\n",
      "Number of Clusters: 5  𝑅𝑀𝑆𝑆𝑇𝐷: 0.9656446936025352\n",
      "Number of Clusters: 6  𝑅𝑀𝑆𝑆𝑇𝐷: 0.7745185822847529\n",
      "Number of Clusters: 7  𝑅𝑀𝑆𝑆𝑇𝐷: 0.7520748963931774\n",
      "Number of Clusters: 8  𝑅𝑀𝑆𝑆𝑇𝐷: 0.738502151410242\n",
      "Number of Clusters: 9  𝑅𝑀𝑆𝑆𝑇𝐷: 0.7126325558838308\n"
     ]
    }
   ],
   "source": [
    "RMSSTD(arr,cluster_centres_list,pt_label_list)"
   ]
  },
  {
   "cell_type": "code",
   "execution_count": 65,
   "metadata": {},
   "outputs": [
    {
     "name": "stdout",
     "output_type": "stream",
     "text": [
      "Number of clusters: 2 RS:  0.9999268021199873\n",
      "Number of clusters: 3 RS:  0.999973523306265\n",
      "Number of clusters: 4 RS:  0.9999877842737013\n",
      "Number of clusters: 5 RS:  0.9999978389319518\n",
      "Number of clusters: 6 RS:  0.9999986515797342\n",
      "Number of clusters: 7 RS:  0.9999988245278888\n",
      "Number of clusters: 8 RS:  0.9999989331254046\n",
      "Number of clusters: 9 RS:  0.9999990155342278\n"
     ]
    }
   ],
   "source": [
    "r_squared(arr,cluster_centres_list,pt_label_list)"
   ]
  },
  {
   "cell_type": "code",
   "execution_count": 66,
   "metadata": {},
   "outputs": [
    {
     "name": "stdout",
     "output_type": "stream",
     "text": [
      "Number of clusters: 2 Modified Hubert Statistic:  1828.446550743341\n",
      "Number of clusters: 3 Modified Hubert Statistic:  2689.0593700058935\n",
      "Number of clusters: 4 Modified Hubert Statistic:  3002.124601369081\n",
      "Number of clusters: 5 Modified Hubert Statistic:  3182.905225487484\n",
      "Number of clusters: 6 Modified Hubert Statistic:  3197.7262701672826\n",
      "Number of clusters: 7 Modified Hubert Statistic:  3201.0734293789815\n",
      "Number of clusters: 8 Modified Hubert Statistic:  3202.7306962042526\n",
      "Number of clusters: 9 Modified Hubert Statistic:  3204.288175767118\n"
     ]
    }
   ],
   "source": [
    "modified_hubert_statistic(arr,cluster_centres_list,pt_label_list)"
   ]
  },
  {
   "cell_type": "code",
   "execution_count": 67,
   "metadata": {},
   "outputs": [
    {
     "name": "stdout",
     "output_type": "stream",
     "text": [
      "Number of clusters: 2 Calinski-Harabasz Index:  239.7095166042807\n",
      "Number of clusters: 3 Calinski-Harabasz Index:  552.3842022626554\n",
      "Number of clusters: 4 Calinski-Harabasz Index:  892.6756339463218\n",
      "Number of clusters: 5 Calinski-Harabasz Index:  4060.18836509042\n",
      "Number of clusters: 6 Calinski-Harabasz Index:  5214.892430366255\n",
      "Number of clusters: 7 Calinski-Harabasz Index:  4971.197225095491\n",
      "Number of clusters: 8 Calinski-Harabasz Index:  4679.418720805312\n",
      "Number of clusters: 9 Calinski-Harabasz Index:  4421.8474309167\n"
     ]
    }
   ],
   "source": [
    "calinski_harabasz_index(arr,cluster_centres_list,pt_label_list)"
   ]
  },
  {
   "cell_type": "code",
   "execution_count": 68,
   "metadata": {},
   "outputs": [
    {
     "name": "stdout",
     "output_type": "stream",
     "text": [
      "1852.125648112808\n",
      "Number of clusters: 2 I Index:  69.67366386400242\n",
      "Number of clusters: 3 I Index:  114.30328126865865\n",
      "Number of clusters: 4 I Index:  276.3007236076679\n",
      "Number of clusters: 5 I Index:  1380.1319475866726\n",
      "Number of clusters: 6 I Index:  1655.7481139819301\n",
      "Number of clusters: 7 I Index:  1381.4912430168492\n",
      "Number of clusters: 8 I Index:  1186.4391275306991\n",
      "Number of clusters: 9 I Index:  1032.9309488212239\n"
     ]
    }
   ],
   "source": [
    "I_index(arr,cluster_centres_list,pt_label_list)"
   ]
  },
  {
   "cell_type": "code",
   "execution_count": 69,
   "metadata": {},
   "outputs": [
    {
     "name": "stdout",
     "output_type": "stream",
     "text": [
      "Number of clusters: 2 Dunn Index:  0.40924684599136174\n",
      "Number of clusters: 3 Dunn Index:  0.48918710985115404\n",
      "Number of clusters: 4 Dunn Index:  0.395868564374055\n",
      "Number of clusters: 5 Dunn Index:  0.5023767748961089\n"
     ]
    },
    {
     "ename": "IndexError",
     "evalue": "index 1 is out of bounds for axis 0 with size 1",
     "output_type": "error",
     "traceback": [
      "\u001b[0;31m---------------------------------------------------------------------------\u001b[0m",
      "\u001b[0;31mIndexError\u001b[0m                                Traceback (most recent call last)",
      "Cell \u001b[0;32mIn [69], line 1\u001b[0m\n\u001b[0;32m----> 1\u001b[0m dunn_index(arr,pt_label_list)\n",
      "File \u001b[0;32m~/Desktop/SMAI Project/MEASURES/Dunn.py:25\u001b[0m, in \u001b[0;36mdunn_index\u001b[0;34m(arr, pt_label_list)\u001b[0m\n\u001b[1;32m     23\u001b[0m dist_intc \u001b[39m=\u001b[39m np\u001b[39m.\u001b[39mzeros((arr[pt_label\u001b[39m==\u001b[39mi]\u001b[39m.\u001b[39mshape[\u001b[39m0\u001b[39m],arr[pt_label\u001b[39m==\u001b[39mi]\u001b[39m.\u001b[39mshape[\u001b[39m0\u001b[39m]))\n\u001b[1;32m     24\u001b[0m \u001b[39mfor\u001b[39;00m m \u001b[39min\u001b[39;00m \u001b[39mrange\u001b[39m(arr[pt_label\u001b[39m==\u001b[39mi]\u001b[39m.\u001b[39mshape[\u001b[39m0\u001b[39m]):\n\u001b[0;32m---> 25\u001b[0m     dist_intc[i] \u001b[39m=\u001b[39m np\u001b[39m.\u001b[39msum((arr[pt_label\u001b[39m==\u001b[39mi][m]\u001b[39m-\u001b[39marr[pt_label\u001b[39m==\u001b[39mi])\u001b[39m*\u001b[39m\u001b[39m*\u001b[39m\u001b[39m2\u001b[39m,axis\u001b[39m=\u001b[39m\u001b[39m1\u001b[39m)\u001b[39m*\u001b[39m\u001b[39m*\u001b[39m\u001b[39m0.5\u001b[39m\n\u001b[1;32m     26\u001b[0m max_dist_intc \u001b[39m=\u001b[39m np\u001b[39m.\u001b[39mmax(dist_intc)\n\u001b[1;32m     27\u001b[0m \u001b[39mif\u001b[39;00m max_dist_intc\u001b[39m>\u001b[39mmax_intraclass_dist:\n",
      "\u001b[0;31mIndexError\u001b[0m: index 1 is out of bounds for axis 0 with size 1"
     ]
    }
   ],
   "source": [
    "dunn_index(arr,pt_label_list)"
   ]
  },
  {
   "cell_type": "code",
   "execution_count": 70,
   "metadata": {},
   "outputs": [
    {
     "name": "stdout",
     "output_type": "stream",
     "text": [
      "Number of clusters: 2 Silhoutte Index:  0.3406850377239595\n",
      "Number of clusters: 3 Silhoutte Index:  0.5597879615938256\n",
      "Number of clusters: 4 Silhoutte Index:  0.8502274130017983\n",
      "Number of clusters: 5 Silhoutte Index:  0.9136233227050358\n",
      "Number of clusters: 6 Silhoutte Index:  nan\n",
      "Number of clusters: 7 Silhoutte Index:  nan\n",
      "Number of clusters: 8 Silhoutte Index:  nan\n",
      "Number of clusters: 9 Silhoutte Index:  nan\n"
     ]
    },
    {
     "name": "stderr",
     "output_type": "stream",
     "text": [
      "/home/rudeninja/Desktop/SMAI Project/MEASURES/Silhouette.py:12: RuntimeWarning: invalid value encountered in double_scalars\n",
      "  avg_dist[i] = np.sum(np.sum((cl[i]-cl)**2,axis=1)**0.5)/(cl.shape[0]-1)\n"
     ]
    }
   ],
   "source": [
    "silhoutte_index(arr,cluster_centres_list,pt_label_list)"
   ]
  },
  {
   "cell_type": "code",
   "execution_count": 71,
   "metadata": {},
   "outputs": [
    {
     "name": "stdout",
     "output_type": "stream",
     "text": [
      "Number of clusters: 2 Davies-Bouldin Index:  1.6508204253769054\n",
      "Number of clusters: 3 Davies-Bouldin Index:  1.5979936545080788\n",
      "Number of clusters: 4 Davies-Bouldin Index:  1.3930073127398852\n",
      "Number of clusters: 5 Davies-Bouldin Index:  0.9540753169635492\n",
      "Number of clusters: 6 Davies-Bouldin Index:  0.9788979831827846\n",
      "Number of clusters: 7 Davies-Bouldin Index:  2.693753252292302\n",
      "Number of clusters: 8 Davies-Bouldin Index:  4.581267379454341\n",
      "Number of clusters: 9 Davies-Bouldin Index:  6.762013344598422\n"
     ]
    }
   ],
   "source": [
    "Davies_Bouldin_Index(arr,cluster_centres_list,pt_label_list)"
   ]
  },
  {
   "cell_type": "code",
   "execution_count": 72,
   "metadata": {},
   "outputs": [
    {
     "name": "stdout",
     "output_type": "stream",
     "text": [
      "Number of clusters: 2 Xie Beni Index:  64.59318019301156\n",
      "Number of clusters: 3 Xie Beni Index:  20.042375705073365\n",
      "Number of clusters: 4 Xie Beni Index:  22.271201809027353\n",
      "Number of clusters: 5 Xie Beni Index:  5.465880508029348\n",
      "Number of clusters: 6 Xie Beni Index:  3.410491425188767\n",
      "Number of clusters: 7 Xie Beni Index:  81.95219586255578\n",
      "Number of clusters: 8 Xie Beni Index:  125.475876648846\n",
      "Number of clusters: 9 Xie Beni Index:  147.05318692451283\n"
     ]
    }
   ],
   "source": [
    "Xie_Beni_Index(arr,cluster_centres_list,pt_label_list)"
   ]
  },
  {
   "cell_type": "code",
   "execution_count": 73,
   "metadata": {},
   "outputs": [
    {
     "name": "stdout",
     "output_type": "stream",
     "text": [
      "Number of clusters: 2 SD Validity Index:  0.8274690708704926\n",
      "Number of clusters: 3 SD Validity Index:  0.4815543708118033\n",
      "Number of clusters: 4 SD Validity Index:  0.4567293224792902\n",
      "Number of clusters: 5 SD Validity Index:  0.4158395271243172\n",
      "Number of clusters: 6 SD Validity Index:  0.4092218349012888\n",
      "Number of clusters: 7 SD Validity Index:  1.883946812864234\n",
      "Number of clusters: 8 SD Validity Index:  2.592071232213897\n",
      "Number of clusters: 9 SD Validity Index:  2.867533803269083\n"
     ]
    }
   ],
   "source": [
    "SD_validity_index(arr,cluster_centres_list,pt_label_list)"
   ]
  },
  {
   "cell_type": "code",
   "execution_count": 74,
   "metadata": {},
   "outputs": [
    {
     "name": "stdout",
     "output_type": "stream",
     "text": [
      "Number of clusters: 2 S_Dbw: 2.1296219701627104\n",
      "Number of clusters: 3 S_Dbw: 0.6782522179304582\n",
      "Number of clusters: 4 S_Dbw: 0.2122763755067506\n",
      "Number of clusters: 5 S_Dbw: 0.11653256886266027\n",
      "Number of clusters: 6 S_Dbw: 0.08003878497258043\n",
      "Number of clusters: 7 S_Dbw: 0.15231010968191083\n",
      "Number of clusters: 8 S_Dbw: 0.2185257781154865\n",
      "Number of clusters: 9 S_Dbw: 0.22361764559710748\n"
     ]
    }
   ],
   "source": [
    "s_dbw(arr,cluster_centres_list,pt_label_list)"
   ]
  }
 ],
 "metadata": {
  "kernelspec": {
   "display_name": "Python 3.8.10 64-bit",
   "language": "python",
   "name": "python3"
  },
  "language_info": {
   "codemirror_mode": {
    "name": "ipython",
    "version": 3
   },
   "file_extension": ".py",
   "mimetype": "text/x-python",
   "name": "python",
   "nbconvert_exporter": "python",
   "pygments_lexer": "ipython3",
   "version": "3.8.10"
  },
  "orig_nbformat": 4,
  "vscode": {
   "interpreter": {
    "hash": "5b3ded1ccb95c1d9bd405e7b823d9e85424cde40fbb5985eb47e999ef50e15b4"
   }
  }
 },
 "nbformat": 4,
 "nbformat_minor": 2
}
