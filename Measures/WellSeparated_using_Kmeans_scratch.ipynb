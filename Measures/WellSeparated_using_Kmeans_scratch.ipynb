{
 "cells": [
  {
   "cell_type": "code",
   "execution_count": 191,
   "metadata": {},
   "outputs": [],
   "source": [
    "from RMSSTD import RMSSTD\n",
    "from R_squared import r_squared\n",
    "from SD_validity import SD_validity_index\n",
    "from Hubert_statistic import modified_hubert_statistic\n",
    "from Silhouette import silhoutte_index\n",
    "from Sdb_w import s_dbw\n",
    "from I import I_index\n",
    "from Dunn import dunn_index\n",
    "from Xie_Beni import Xie_Beni_Index\n",
    "from CH import calinski_harabasz_index\n",
    "from Davies_Bouldin import Davies_Bouldin_Index"
   ]
  },
  {
   "cell_type": "code",
   "execution_count": 192,
   "metadata": {},
   "outputs": [
    {
     "name": "stdout",
     "output_type": "stream",
     "text": [
      "(250, 2)\n"
     ]
    },
    {
     "data": {
      "image/png": "[encoded data removed]",
      "text/plain": [
       "<Figure size 640x480 with 1 Axes>"
      ]
     },
     "metadata": {},
     "output_type": "display_data"
    }
   ],
   "source": [
    "import numpy as np\n",
    "from kmeans import Kmeans  # \n",
    "import matplotlib.pyplot as plt\n",
    "from Sdb_w import s_dbw\n",
    "\n",
    "\n",
    "arr = np.loadtxt(\"../Datasets/Wellseparated.csv\",delimiter=',')\n",
    "print(arr.shape)\n",
    "plt.plot(arr[:,0],arr[:,1],'.')\n",
    "plt.title('Well Separated Dataset')\n",
    "\n",
    "cluster_centres_list=[]\n",
    "pt_label_list=[]\n",
    "for j in range(2,10):\n",
    "    cluster_centres,pt_label = Kmeans(arr,j,1000)\n",
    "    \n",
    "    cluster_centres_list.append(cluster_centres)\n",
    "    pt_label_list.append(pt_label)\n",
    "\n"
   ]
  },
  {
   "cell_type": "code",
   "execution_count": 193,
   "metadata": {},
   "outputs": [
    {
     "name": "stdout",
     "output_type": "stream",
     "text": [
      "Number of Clusters: 2  𝑅𝑀𝑆𝑆𝑇𝐷: 4.861915049775826\n",
      "Number of Clusters: 3  𝑅𝑀𝑆𝑆𝑇𝐷: 2.623177699853845\n",
      "Number of Clusters: 4  𝑅𝑀𝑆𝑆𝑇𝐷: 2.3372582360589105\n",
      "Number of Clusters: 5  𝑅𝑀𝑆𝑆𝑇𝐷: 0.7370330194635597\n",
      "Number of Clusters: 6  𝑅𝑀𝑆𝑆𝑇𝐷: 0.7156846326812334\n",
      "Number of Clusters: 7  𝑅𝑀𝑆𝑆𝑇𝐷: 0.6789979962753969\n",
      "Number of Clusters: 8  𝑅𝑀𝑆𝑆𝑇𝐷: 0.7021422852286634\n",
      "Number of Clusters: 9  𝑅𝑀𝑆𝑆𝑇𝐷: 2.5837628158229933\n"
     ]
    }
   ],
   "source": [
    "RMSSTD(arr,cluster_centres_list,pt_label_list)\n"
   ]
  },
  {
   "cell_type": "code",
   "execution_count": 194,
   "metadata": {},
   "outputs": [
    {
     "name": "stdout",
     "output_type": "stream",
     "text": [
      "Number of clusters: 2 RS:  0.9999232122972692\n",
      "Number of clusters: 3 RS:  0.9999730485347819\n",
      "Number of clusters: 4 RS:  0.9999835143946952\n",
      "Number of clusters: 5 RS:  0.9999988018474617\n",
      "Number of clusters: 6 RS:  0.9999988718813877\n",
      "Number of clusters: 7 RS:  0.999998961657593\n",
      "Number of clusters: 8 RS:  0.9999990327329079\n",
      "Number of clusters: 9 RS:  0.999983921504199\n"
     ]
    }
   ],
   "source": [
    "r_squared(arr,cluster_centres_list,pt_label_list)"
   ]
  },
  {
   "cell_type": "code",
   "execution_count": 195,
   "metadata": {},
   "outputs": [
    {
     "name": "stdout",
     "output_type": "stream",
     "text": [
      "Number of clusters: 2 Modified Hubert Statistic:  1823.017313555979\n",
      "Number of clusters: 3 Modified Hubert Statistic:  2691.4770438309406\n",
      "Number of clusters: 4 Modified Hubert Statistic:  2869.661956243282\n",
      "Number of clusters: 5 Modified Hubert Statistic:  3183.984777673449\n",
      "Number of clusters: 6 Modified Hubert Statistic:  3185.1882161874723\n",
      "Number of clusters: 7 Modified Hubert Statistic:  3187.3944048526146\n",
      "Number of clusters: 8 Modified Hubert Statistic:  3188.290054150109\n",
      "Number of clusters: 9 Modified Hubert Statistic:  2877.868073391093\n"
     ]
    }
   ],
   "source": [
    "modified_hubert_statistic(arr,cluster_centres_list,pt_label_list)"
   ]
  },
  {
   "cell_type": "code",
   "execution_count": 196,
   "metadata": {},
   "outputs": [
    {
     "name": "stdout",
     "output_type": "stream",
     "text": [
      "Number of clusters: 2 Calinski-Harabasz Index:  236.11372735695406\n",
      "Number of clusters: 3 Calinski-Harabasz Index:  563.3659198999557\n",
      "Number of clusters: 4 Calinski-Harabasz Index:  663.5835992147115\n",
      "Number of clusters: 5 Calinski-Harabasz Index:  7601.442052469515\n",
      "Number of clusters: 6 Calinski-Harabasz Index:  6435.340983680217\n",
      "Number of clusters: 7 Calinski-Harabasz Index:  5806.079014975537\n",
      "Number of clusters: 8 Calinski-Harabasz Index:  5322.880771609693\n",
      "Number of clusters: 9 Calinski-Harabasz Index:  250.7215095152067\n"
     ]
    }
   ],
   "source": [
    "calinski_harabasz_index(arr,cluster_centres_list,pt_label_list)"
   ]
  },
  {
   "cell_type": "code",
   "execution_count": 197,
   "metadata": {},
   "outputs": [
    {
     "name": "stdout",
     "output_type": "stream",
     "text": [
      "1816.107152325697\n",
      "Number of clusters: 2 I Index:  70.34444875677447\n",
      "Number of clusters: 3 I Index:  116.99344432322137\n",
      "Number of clusters: 4 I Index:  182.93207861018328\n",
      "Number of clusters: 5 I Index:  1671.401543047269\n",
      "Number of clusters: 6 I Index:  1275.1322473328162\n",
      "Number of clusters: 7 I Index:  1029.3227311855835\n",
      "Number of clusters: 8 I Index:  875.3331715824914\n",
      "Number of clusters: 9 I Index:  44.262735535684115\n"
     ]
    }
   ],
   "source": [
    "I_index(arr,cluster_centres_list,pt_label_list)"
   ]
  },
  {
   "cell_type": "code",
   "execution_count": 198,
   "metadata": {},
   "outputs": [
    {
     "name": "stdout",
     "output_type": "stream",
     "text": [
      "Number of clusters: 2 Dunn Index:  0.37914757800354665\n",
      "Number of clusters: 3 Dunn Index:  0.7825302649302619\n",
      "Number of clusters: 4 Dunn Index:  0.5194413338526194\n",
      "Number of clusters: 5 Dunn Index:  2.8520225466356015\n",
      "Number of clusters: 6 Dunn Index:  0.33316139409253526\n",
      "Number of clusters: 7 Dunn Index:  0.18737785575027627\n",
      "Number of clusters: 8 Dunn Index:  0.05072201899345419\n",
      "Number of clusters: 9 Dunn Index:  0.027700983503129013\n"
     ]
    }
   ],
   "source": [
    "dunn_index(arr,pt_label_list)"
   ]
  },
  {
   "cell_type": "code",
   "execution_count": 199,
   "metadata": {},
   "outputs": [
    {
     "name": "stdout",
     "output_type": "stream",
     "text": [
      "Number of clusters: 2 Silhoutte Index:  0.4152188966157432\n",
      "Number of clusters: 3 Silhoutte Index:  0.6557335147302177\n",
      "Number of clusters: 4 Silhoutte Index:  0.8110751834180936\n",
      "Number of clusters: 5 Silhoutte Index:  0.8955330413328044\n",
      "Number of clusters: 6 Silhoutte Index:  0.9027882970814002\n",
      "Number of clusters: 7 Silhoutte Index:  0.7093421115945419\n",
      "Number of clusters: 8 Silhoutte Index:  0.7989879902533497\n",
      "Number of clusters: 9 Silhoutte Index:  0.7578174377975174\n"
     ]
    }
   ],
   "source": [
    "silhoutte_index(arr,cluster_centres_list,pt_label_list)"
   ]
  },
  {
   "cell_type": "code",
   "execution_count": 200,
   "metadata": {},
   "outputs": [
    {
     "name": "stdout",
     "output_type": "stream",
     "text": [
      "Number of clusters: 2 Davies-Bouldin Index:  1.6420117989562653\n",
      "Number of clusters: 3 Davies-Bouldin Index:  1.5817131476247455\n",
      "Number of clusters: 4 Davies-Bouldin Index:  1.6436410473205565\n",
      "Number of clusters: 5 Davies-Bouldin Index:  0.8656930784731848\n",
      "Number of clusters: 6 Davies-Bouldin Index:  3.1441068729150725\n",
      "Number of clusters: 7 Davies-Bouldin Index:  5.680689038702582\n",
      "Number of clusters: 8 Davies-Bouldin Index:  7.448602953716617\n",
      "Number of clusters: 9 Davies-Bouldin Index:  8.001091540481722\n"
     ]
    }
   ],
   "source": [
    "Davies_Bouldin_Index(arr,cluster_centres_list,pt_label_list)"
   ]
  },
  {
   "cell_type": "code",
   "execution_count": 201,
   "metadata": {},
   "outputs": [
    {
     "name": "stdout",
     "output_type": "stream",
     "text": [
      "Number of clusters: 2 Xie Beni Index:  63.02047816772883\n",
      "Number of clusters: 3 Xie Beni Index:  18.93557959475203\n",
      "Number of clusters: 4 Xie Beni Index:  39.37948109591507\n",
      "Number of clusters: 5 Xie Beni Index:  2.8620499131461834\n",
      "Number of clusters: 6 Xie Beni Index:  180.7337040763611\n",
      "Number of clusters: 7 Xie Beni Index:  204.07234790857538\n",
      "Number of clusters: 8 Xie Beni Index:  177.25902524353785\n",
      "Number of clusters: 9 Xie Beni Index:  3599.924215743805\n"
     ]
    }
   ],
   "source": [
    "Xie_Beni_Index(arr,cluster_centres_list,pt_label_list)"
   ]
  },
  {
   "cell_type": "code",
   "execution_count": 202,
   "metadata": {},
   "outputs": [
    {
     "name": "stdout",
     "output_type": "stream",
     "text": [
      "Number of clusters: 2 SD Validity Index:  0.8248829196812155\n",
      "Number of clusters: 3 SD Validity Index:  0.4776365673155535\n",
      "Number of clusters: 4 SD Validity Index:  0.4570224910706512\n",
      "Number of clusters: 5 SD Validity Index:  0.3902837442001234\n",
      "Number of clusters: 6 SD Validity Index:  2.542685830319523\n",
      "Number of clusters: 7 SD Validity Index:  3.1119761087135234\n",
      "Number of clusters: 8 SD Validity Index:  2.574417456122801\n",
      "Number of clusters: 9 SD Validity Index:  3.1301408453389694\n"
     ]
    }
   ],
   "source": [
    "SD_validity_index(arr,cluster_centres_list,pt_label_list)"
   ]
  },
  {
   "cell_type": "code",
   "execution_count": 203,
   "metadata": {},
   "outputs": [
    {
     "name": "stdout",
     "output_type": "stream",
     "text": [
      "Number of clusters: 2 S_Dbw: 2.041826970531833\n",
      "Number of clusters: 3 S_Dbw: 0.6613393448914942\n",
      "Number of clusters: 4 S_Dbw: 0.19627985953540386\n",
      "Number of clusters: 5 S_Dbw: 0.089240978738394\n",
      "Number of clusters: 6 S_Dbw: 0.21682241414267478\n",
      "Number of clusters: 7 S_Dbw: 0.2600127348645575\n",
      "Number of clusters: 8 S_Dbw: 0.2867163734198257\n",
      "Number of clusters: 9 S_Dbw: 0.6007116112358231\n"
     ]
    }
   ],
   "source": [
    "s_dbw(arr,cluster_centres_list,pt_label_list)"
   ]
  }
 ],
 "metadata": {
  "kernelspec": {
   "display_name": "Python 3.8.10 64-bit",
   "language": "python",
   "name": "python3"
  },
  "language_info": {
   "codemirror_mode": {
    "name": "ipython",
    "version": 3
   },
   "file_extension": ".py",
   "mimetype": "text/x-python",
   "name": "python",
   "nbconvert_exporter": "python",
   "pygments_lexer": "ipython3",
   "version": "3.8.10"
  },
  "orig_nbformat": 4,
  "vscode": {
   "interpreter": {
    "hash": "5b3ded1ccb95c1d9bd405e7b823d9e85424cde40fbb5985eb47e999ef50e15b4"
   }
  }
 },
 "nbformat": 4,
 "nbformat_minor": 2
}
