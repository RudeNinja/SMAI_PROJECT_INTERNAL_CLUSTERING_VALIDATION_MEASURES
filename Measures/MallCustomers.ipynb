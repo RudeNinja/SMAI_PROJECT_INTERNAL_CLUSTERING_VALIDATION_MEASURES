{
 "cells": [
  {
   "cell_type": "code",
   "execution_count": 1,
   "metadata": {},
   "outputs": [],
   "source": [
    "import numpy as np \n",
    "import pandas as pd \n",
    "import matplotlib.pyplot as plt \n",
    "import seaborn as sns\n",
    "\n",
    "import plotly as py\n",
    "import plotly.graph_objs as go\n",
    "\n",
    "import warnings\n",
    "warnings.filterwarnings('ignore')\n",
    "\n",
    "from sklearn import preprocessing \n",
    "import scipy.cluster.hierarchy as sch\n",
    "from sklearn.cluster import KMeans\n",
    "\n"
   ]
  },
  {
   "cell_type": "markdown",
   "metadata": {},
   "source": [
    "## Clustering based on Gender, age annual income, spending score"
   ]
  },
  {
   "cell_type": "code",
   "execution_count": 2,
   "metadata": {},
   "outputs": [],
   "source": [
    "from RMSSTD import RMSSTD\n",
    "from R_squared import r_squared\n",
    "from SD_validity import SD_validity_index\n",
    "from Hubert_statistic import modified_hubert_statistic\n",
    "from Silhouette import silhoutte_index\n",
    "from Sdb_w import s_dbw\n",
    "from I import I_index\n",
    "from Dunn import dunn_index\n",
    "from Xie_Beni import Xie_Beni_Index\n",
    "from CH import calinski_harabasz_index\n",
    "from Davies_Bouldin import Davies_Bouldin_Index"
   ]
  },
  {
   "cell_type": "code",
   "execution_count": 3,
   "metadata": {},
   "outputs": [
    {
     "data": {
      "text/html": [
       "<div>\n",
       "<style scoped>\n",
       "    .dataframe tbody tr th:only-of-type {\n",
       "        vertical-align: middle;\n",
       "    }\n",
       "\n",
       "    .dataframe tbody tr th {\n",
       "        vertical-align: top;\n",
       "    }\n",
       "\n",
       "    .dataframe thead th {\n",
       "        text-align: right;\n",
       "    }\n",
       "</style>\n",
       "<table border=\"1\" class=\"dataframe\">\n",
       "  <thead>\n",
       "    <tr style=\"text-align: right;\">\n",
       "      <th></th>\n",
       "      <th>CustomerID</th>\n",
       "      <th>Gender</th>\n",
       "      <th>Age</th>\n",
       "      <th>Income</th>\n",
       "      <th>SpendingScore</th>\n",
       "    </tr>\n",
       "  </thead>\n",
       "  <tbody>\n",
       "    <tr>\n",
       "      <th>0</th>\n",
       "      <td>1</td>\n",
       "      <td>Male</td>\n",
       "      <td>19</td>\n",
       "      <td>15</td>\n",
       "      <td>39</td>\n",
       "    </tr>\n",
       "    <tr>\n",
       "      <th>1</th>\n",
       "      <td>2</td>\n",
       "      <td>Male</td>\n",
       "      <td>21</td>\n",
       "      <td>15</td>\n",
       "      <td>81</td>\n",
       "    </tr>\n",
       "    <tr>\n",
       "      <th>2</th>\n",
       "      <td>3</td>\n",
       "      <td>Female</td>\n",
       "      <td>20</td>\n",
       "      <td>16</td>\n",
       "      <td>6</td>\n",
       "    </tr>\n",
       "    <tr>\n",
       "      <th>3</th>\n",
       "      <td>4</td>\n",
       "      <td>Female</td>\n",
       "      <td>23</td>\n",
       "      <td>16</td>\n",
       "      <td>77</td>\n",
       "    </tr>\n",
       "    <tr>\n",
       "      <th>4</th>\n",
       "      <td>5</td>\n",
       "      <td>Female</td>\n",
       "      <td>31</td>\n",
       "      <td>17</td>\n",
       "      <td>40</td>\n",
       "    </tr>\n",
       "  </tbody>\n",
       "</table>\n",
       "</div>"
      ],
      "text/plain": [
       "   CustomerID  Gender  Age  Income  SpendingScore\n",
       "0           1    Male   19      15             39\n",
       "1           2    Male   21      15             81\n",
       "2           3  Female   20      16              6\n",
       "3           4  Female   23      16             77\n",
       "4           5  Female   31      17             40"
      ]
     },
     "execution_count": 3,
     "metadata": {},
     "output_type": "execute_result"
    }
   ],
   "source": [
    "df = pd.read_csv('../Datasets/Mall_Customers.csv')\n",
    "df.head()\n"
   ]
  },
  {
   "cell_type": "code",
   "execution_count": null,
   "metadata": {},
   "outputs": [],
   "source": []
  },
  {
   "cell_type": "code",
   "execution_count": 4,
   "metadata": {},
   "outputs": [
    {
     "data": {
      "text/plain": [
       "<AxesSubplot:xlabel='Income', ylabel='SpendingScore'>"
      ]
     },
     "execution_count": 4,
     "metadata": {},
     "output_type": "execute_result"
    },
    {
     "data": {
      "image/png": "[encoded data removed]",
      "text/plain": [
       "<Figure size 640x480 with 1 Axes>"
      ]
     },
     "metadata": {},
     "output_type": "display_data"
    }
   ],
   "source": [
    "ax = df[df.Age<30].plot.scatter(x='Income', y='SpendingScore',color='blue', label = 'Age<30')\n",
    "df[df.Age>30].plot.scatter(x='Income', y='SpendingScore',color='red',label = 'Age>=30',ax=ax)\n",
    "\n"
   ]
  },
  {
   "cell_type": "code",
   "execution_count": 5,
   "metadata": {},
   "outputs": [],
   "source": [
    "x = df.values\n",
    "X = x[:, 3:5]\n",
    "X = np.array(X).astype(float)\n",
    "\n",
    "cluster_centres_list=[]\n",
    "pt_label_list=[]\n",
    "for j in range(2,10):\n",
    "    kmeans = KMeans(n_clusters=j).fit(X)\n",
    "    \n",
    "    pt_label = kmeans.labels_\n",
    "    num = np.unique(pt_label)\n",
    "    cluster_centres = kmeans.cluster_centers_\n",
    "    \n",
    "    cluster_centres_list.append(cluster_centres)\n",
    "    pt_label_list.append(pt_label)\n"
   ]
  },
  {
   "cell_type": "code",
   "execution_count": 6,
   "metadata": {},
   "outputs": [
    {
     "name": "stdout",
     "output_type": "stream",
     "text": [
      "Number of Clusters: 2  𝑅𝑀𝑆𝑆𝑇𝐷: 25.31988195070734\n",
      "Number of Clusters: 3  𝑅𝑀𝑆𝑆𝑇𝐷: 21.479002897199926\n",
      "Number of Clusters: 4  𝑅𝑀𝑆𝑆𝑇𝐷: 19.809665432101585\n",
      "Number of Clusters: 5  𝑅𝑀𝑆𝑆𝑇𝐷: 17.962508709132873\n",
      "Number of Clusters: 6  𝑅𝑀𝑆𝑆𝑇𝐷: 12.57204031994511\n",
      "Number of Clusters: 7  𝑅𝑀𝑆𝑆𝑇𝐷: 12.62266434815511\n",
      "Number of Clusters: 8  𝑅𝑀𝑆𝑆𝑇𝐷: 14.31624960826613\n",
      "Number of Clusters: 9  𝑅𝑀𝑆𝑆𝑇𝐷: 10.776418624710326\n"
     ]
    }
   ],
   "source": [
    "RMSSTD(X,cluster_centres_list,pt_label_list)"
   ]
  },
  {
   "cell_type": "code",
   "execution_count": 7,
   "metadata": {},
   "outputs": [
    {
     "name": "stdout",
     "output_type": "stream",
     "text": [
      "Number of clusters: 2 RS:  0.9999962992256698\n",
      "Number of clusters: 3 RS:  0.9999978299320379\n",
      "Number of clusters: 4 RS:  0.9999984965435291\n",
      "Number of clusters: 5 RS:  0.9999990930169748\n",
      "Number of clusters: 6 RS:  0.9999992402337181\n",
      "Number of clusters: 7 RS:  0.9999993831973298\n",
      "Number of clusters: 8 RS:  0.9999994894848424\n",
      "Number of clusters: 9 RS:  0.9999995541413349\n"
     ]
    }
   ],
   "source": [
    "r_squared(X,cluster_centres_list,pt_label_list)"
   ]
  },
  {
   "cell_type": "code",
   "execution_count": 8,
   "metadata": {},
   "outputs": [
    {
     "name": "stdout",
     "output_type": "stream",
     "text": [
      "Number of clusters: 2 Modified Hubert Statistic:  150002.5304287217\n",
      "Number of clusters: 3 Modified Hubert Statistic:  238348.26663500143\n",
      "Number of clusters: 4 Modified Hubert Statistic:  281085.366320673\n",
      "Number of clusters: 5 Modified Hubert Statistic:  318667.0773388261\n",
      "Number of clusters: 6 Modified Hubert Statistic:  329446.2194859465\n",
      "Number of clusters: 7 Modified Hubert Statistic:  337898.0817358823\n",
      "Number of clusters: 8 Modified Hubert Statistic:  344263.14127990435\n",
      "Number of clusters: 9 Modified Hubert Statistic:  348283.2155468989\n"
     ]
    }
   ],
   "source": [
    "modified_hubert_statistic(X,cluster_centres_list,pt_label_list)"
   ]
  },
  {
   "cell_type": "code",
   "execution_count": 9,
   "metadata": {},
   "outputs": [
    {
     "name": "stdout",
     "output_type": "stream",
     "text": [
      "Number of clusters: 2 Calinski-Harabasz Index:  96.74654578369153\n",
      "Number of clusters: 3 Calinski-Harabasz Index:  151.55700900067976\n",
      "Number of clusters: 4 Calinski-Harabasz Index:  174.0644335433683\n",
      "Number of clusters: 5 Calinski-Harabasz Index:  247.3589933803728\n",
      "Number of clusters: 6 Calinski-Harabasz Index:  242.5376443336706\n",
      "Number of clusters: 7 Calinski-Harabasz Index:  255.13354799708517\n",
      "Number of clusters: 8 Calinski-Harabasz Index:  268.55709794898\n",
      "Number of clusters: 9 Calinski-Harabasz Index:  271.1251968697802\n"
     ]
    }
   ],
   "source": [
    "calinski_harabasz_index(X,cluster_centres_list,pt_label_list)"
   ]
  },
  {
   "cell_type": "code",
   "execution_count": 10,
   "metadata": {},
   "outputs": [
    {
     "name": "stdout",
     "output_type": "stream",
     "text": [
      "6223.912932356547\n",
      "Number of clusters: 2 I Index:  595.7566684027804\n",
      "Number of clusters: 3 I Index:  1141.1562895506145\n",
      "Number of clusters: 4 I Index:  1636.9618768014188\n",
      "Number of clusters: 5 I Index:  1777.2752482099843\n",
      "Number of clusters: 6 I Index:  1960.2101878366823\n",
      "Number of clusters: 7 I Index:  1659.2309369115278\n",
      "Number of clusters: 8 I Index:  1680.376869586634\n",
      "Number of clusters: 9 I Index:  1698.4644889455162\n"
     ]
    }
   ],
   "source": [
    "I_index(X,cluster_centres_list,pt_label_list)"
   ]
  },
  {
   "cell_type": "code",
   "execution_count": 11,
   "metadata": {},
   "outputs": [
    {
     "name": "stdout",
     "output_type": "stream",
     "text": [
      "Number of clusters: 2 Dunn Index:  0.327268025641897\n",
      "Number of clusters: 3 Dunn Index:  0.5114083119567588\n",
      "Number of clusters: 4 Dunn Index:  0.36512889864811626\n",
      "Number of clusters: 5 Dunn Index:  0.24307823990790198\n",
      "Number of clusters: 6 Dunn Index:  0.24512602451775398\n",
      "Number of clusters: 7 Dunn Index:  0.38334006067983023\n",
      "Number of clusters: 8 Dunn Index:  0.30729417212633836\n",
      "Number of clusters: 9 Dunn Index:  0.12696813301379037\n"
     ]
    }
   ],
   "source": [
    "dunn_index(X,pt_label_list)"
   ]
  },
  {
   "cell_type": "code",
   "execution_count": 12,
   "metadata": {},
   "outputs": [
    {
     "name": "stdout",
     "output_type": "stream",
     "text": [
      "Number of clusters: 2 Silhoutte Index:  -0.3022402660083284\n",
      "Number of clusters: 3 Silhoutte Index:  0.15217955744638204\n",
      "Number of clusters: 4 Silhoutte Index:  0.16917587823899508\n",
      "Number of clusters: 5 Silhoutte Index:  0.21409076575183494\n",
      "Number of clusters: 6 Silhoutte Index:  0.45650068092939083\n",
      "Number of clusters: 7 Silhoutte Index:  0.6326770769076288\n",
      "Number of clusters: 8 Silhoutte Index:  0.4223337402666048\n",
      "Number of clusters: 9 Silhoutte Index:  0.5931471006149881\n"
     ]
    }
   ],
   "source": [
    "silhoutte_index(X,cluster_centres_list,pt_label_list)"
   ]
  },
  {
   "cell_type": "code",
   "execution_count": 13,
   "metadata": {},
   "outputs": [
    {
     "name": "stdout",
     "output_type": "stream",
     "text": [
      "Number of clusters: 2 Davies-Bouldin Index:  2.5135487702370565\n",
      "Number of clusters: 3 Davies-Bouldin Index:  2.145830460745385\n",
      "Number of clusters: 4 Davies-Bouldin Index:  2.841457627511958\n",
      "Number of clusters: 5 Davies-Bouldin Index:  2.862814497798547\n",
      "Number of clusters: 6 Davies-Bouldin Index:  3.913460530283453\n",
      "Number of clusters: 7 Davies-Bouldin Index:  5.002931615599896\n",
      "Number of clusters: 8 Davies-Bouldin Index:  6.046153183464931\n",
      "Number of clusters: 9 Davies-Bouldin Index:  6.809454936022993\n"
     ]
    }
   ],
   "source": [
    "Davies_Bouldin_Index(X,cluster_centres_list,pt_label_list)"
   ]
  },
  {
   "cell_type": "code",
   "execution_count": 14,
   "metadata": {},
   "outputs": [
    {
     "name": "stdout",
     "output_type": "stream",
     "text": [
      "Number of clusters: 2 Xie Beni Index:  101.30594245621269\n",
      "Number of clusters: 3 Xie Beni Index:  37.85939590446111\n",
      "Number of clusters: 4 Xie Beni Index:  42.17361094735036\n",
      "Number of clusters: 5 Xie Beni Index:  26.795446838671158\n",
      "Number of clusters: 6 Xie Beni Index:  38.375690246812454\n",
      "Number of clusters: 7 Xie Beni Index:  31.163187407508506\n",
      "Number of clusters: 8 Xie Beni Index:  87.00787419787126\n",
      "Number of clusters: 9 Xie Beni Index:  76.28652829301613\n"
     ]
    }
   ],
   "source": [
    "Xie_Beni_Index(X,cluster_centres_list,pt_label_list)"
   ]
  },
  {
   "cell_type": "code",
   "execution_count": 15,
   "metadata": {},
   "outputs": [
    {
     "name": "stdout",
     "output_type": "stream",
     "text": [
      "Number of clusters: 2 SD Validity Index:  0.8521601577380907\n",
      "Number of clusters: 3 SD Validity Index:  0.6051579552614139\n",
      "Number of clusters: 4 SD Validity Index:  0.544266209469826\n",
      "Number of clusters: 5 SD Validity Index:  0.46057922114378314\n",
      "Number of clusters: 6 SD Validity Index:  0.44990606254060117\n",
      "Number of clusters: 7 SD Validity Index:  0.4267679139783696\n",
      "Number of clusters: 8 SD Validity Index:  0.4531782529588024\n",
      "Number of clusters: 9 SD Validity Index:  0.4304826860430155\n"
     ]
    }
   ],
   "source": [
    "SD_validity_index(X,cluster_centres_list,pt_label_list)"
   ]
  },
  {
   "cell_type": "code",
   "execution_count": 16,
   "metadata": {},
   "outputs": [
    {
     "name": "stdout",
     "output_type": "stream",
     "text": [
      "Number of clusters: 2 S_Dbw: 2.826396971346365\n",
      "Number of clusters: 3 S_Dbw: 1.4994694853674921\n",
      "Number of clusters: 4 S_Dbw: 1.1007018307925616\n",
      "Number of clusters: 5 S_Dbw: 0.6875599228337919\n",
      "Number of clusters: 6 S_Dbw: 0.5994284101544817\n",
      "Number of clusters: 7 S_Dbw: 0.5833487987239571\n",
      "Number of clusters: 8 S_Dbw: 0.5926573556108965\n",
      "Number of clusters: 9 S_Dbw: 0.568349632714658\n"
     ]
    }
   ],
   "source": [
    "s_dbw(X,cluster_centres_list,pt_label_list)"
   ]
  }
 ],
 "metadata": {
  "kernelspec": {
   "display_name": "Python 3.8.10 64-bit",
   "language": "python",
   "name": "python3"
  },
  "language_info": {
   "codemirror_mode": {
    "name": "ipython",
    "version": 3
   },
   "file_extension": ".py",
   "mimetype": "text/x-python",
   "name": "python",
   "nbconvert_exporter": "python",
   "pygments_lexer": "ipython3",
   "version": "3.8.10"
  },
  "orig_nbformat": 4,
  "vscode": {
   "interpreter": {
    "hash": "5b3ded1ccb95c1d9bd405e7b823d9e85424cde40fbb5985eb47e999ef50e15b4"
   }
  }
 },
 "nbformat": 4,
 "nbformat_minor": 2
}
