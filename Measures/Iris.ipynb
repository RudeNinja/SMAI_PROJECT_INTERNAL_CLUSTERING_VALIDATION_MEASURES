{
 "cells": [
  {
   "cell_type": "code",
   "execution_count": 206,
   "metadata": {},
   "outputs": [],
   "source": [
    "import numpy as np\n",
    "import pandas as pd\n",
    "import seaborn as sns\n",
    "from matplotlib import pyplot as plt\n",
    "from sklearn.cluster import KMeans\n",
    "from sklearn.preprocessing import LabelEncoder\n",
    "from sklearn.metrics import classification_report\n",
    "from sklearn.metrics import accuracy_score"
   ]
  },
  {
   "cell_type": "code",
   "execution_count": 207,
   "metadata": {},
   "outputs": [],
   "source": [
    "from RMSSTD import RMSSTD\n",
    "from R_squared import r_squared\n",
    "from SD_validity import SD_validity_index\n",
    "from Hubert_statistic import modified_hubert_statistic\n",
    "from Silhouette import silhoutte_index\n",
    "from Sdb_w import s_dbw\n",
    "from I import I_index\n",
    "from Dunn import dunn_index\n",
    "from Xie_Beni import Xie_Beni_Index\n",
    "from CH import calinski_harabasz_index\n",
    "from Davies_Bouldin import Davies_Bouldin_Index"
   ]
  },
  {
   "cell_type": "code",
   "execution_count": 208,
   "metadata": {},
   "outputs": [
    {
     "data": {
      "text/plain": [
       "Text(0.5, 1.0, 'Scatter Plot')"
      ]
     },
     "execution_count": 208,
     "metadata": {},
     "output_type": "execute_result"
    },
    {
     "data": {
      "image/png": "[encoded data removed]",
      "text/plain": [
       "<Figure size 640x480 with 1 Axes>"
      ]
     },
     "metadata": {},
     "output_type": "display_data"
    }
   ],
   "source": [
    "df = pd.read_csv(\"../Datasets/Iris.csv\")\n",
    "df.head(n=10)\n",
    "\n",
    "\n",
    "ax = df.plot.scatter(x='PetalLengthCm', y='PetalWidthCm',\n",
    "                                                color='green', label='Petal Length vs Petal Width')\n",
    "\n",
    "ax.set_title(\"Scatter Plot\")"
   ]
  },
  {
   "cell_type": "code",
   "execution_count": 209,
   "metadata": {},
   "outputs": [],
   "source": [
    "enc = LabelEncoder()\n",
    "df['Species'] = enc.fit_transform(df['Species'])"
   ]
  },
  {
   "cell_type": "code",
   "execution_count": 210,
   "metadata": {},
   "outputs": [
    {
     "data": {
      "text/html": [
       "<div>\n",
       "<style scoped>\n",
       "    .dataframe tbody tr th:only-of-type {\n",
       "        vertical-align: middle;\n",
       "    }\n",
       "\n",
       "    .dataframe tbody tr th {\n",
       "        vertical-align: top;\n",
       "    }\n",
       "\n",
       "    .dataframe thead th {\n",
       "        text-align: right;\n",
       "    }\n",
       "</style>\n",
       "<table border=\"1\" class=\"dataframe\">\n",
       "  <thead>\n",
       "    <tr style=\"text-align: right;\">\n",
       "      <th></th>\n",
       "      <th>Id</th>\n",
       "      <th>SepalLengthCm</th>\n",
       "      <th>SepalWidthCm</th>\n",
       "      <th>PetalLengthCm</th>\n",
       "      <th>PetalWidthCm</th>\n",
       "      <th>Species</th>\n",
       "    </tr>\n",
       "  </thead>\n",
       "  <tbody>\n",
       "    <tr>\n",
       "      <th>0</th>\n",
       "      <td>1</td>\n",
       "      <td>5.1</td>\n",
       "      <td>3.5</td>\n",
       "      <td>1.4</td>\n",
       "      <td>0.2</td>\n",
       "      <td>0</td>\n",
       "    </tr>\n",
       "    <tr>\n",
       "      <th>1</th>\n",
       "      <td>2</td>\n",
       "      <td>4.9</td>\n",
       "      <td>3.0</td>\n",
       "      <td>1.4</td>\n",
       "      <td>0.2</td>\n",
       "      <td>0</td>\n",
       "    </tr>\n",
       "    <tr>\n",
       "      <th>2</th>\n",
       "      <td>3</td>\n",
       "      <td>4.7</td>\n",
       "      <td>3.2</td>\n",
       "      <td>1.3</td>\n",
       "      <td>0.2</td>\n",
       "      <td>0</td>\n",
       "    </tr>\n",
       "    <tr>\n",
       "      <th>3</th>\n",
       "      <td>4</td>\n",
       "      <td>4.6</td>\n",
       "      <td>3.1</td>\n",
       "      <td>1.5</td>\n",
       "      <td>0.2</td>\n",
       "      <td>0</td>\n",
       "    </tr>\n",
       "    <tr>\n",
       "      <th>4</th>\n",
       "      <td>5</td>\n",
       "      <td>5.0</td>\n",
       "      <td>3.6</td>\n",
       "      <td>1.4</td>\n",
       "      <td>0.2</td>\n",
       "      <td>0</td>\n",
       "    </tr>\n",
       "    <tr>\n",
       "      <th>...</th>\n",
       "      <td>...</td>\n",
       "      <td>...</td>\n",
       "      <td>...</td>\n",
       "      <td>...</td>\n",
       "      <td>...</td>\n",
       "      <td>...</td>\n",
       "    </tr>\n",
       "    <tr>\n",
       "      <th>145</th>\n",
       "      <td>146</td>\n",
       "      <td>6.7</td>\n",
       "      <td>3.0</td>\n",
       "      <td>5.2</td>\n",
       "      <td>2.3</td>\n",
       "      <td>2</td>\n",
       "    </tr>\n",
       "    <tr>\n",
       "      <th>146</th>\n",
       "      <td>147</td>\n",
       "      <td>6.3</td>\n",
       "      <td>2.5</td>\n",
       "      <td>5.0</td>\n",
       "      <td>1.9</td>\n",
       "      <td>2</td>\n",
       "    </tr>\n",
       "    <tr>\n",
       "      <th>147</th>\n",
       "      <td>148</td>\n",
       "      <td>6.5</td>\n",
       "      <td>3.0</td>\n",
       "      <td>5.2</td>\n",
       "      <td>2.0</td>\n",
       "      <td>2</td>\n",
       "    </tr>\n",
       "    <tr>\n",
       "      <th>148</th>\n",
       "      <td>149</td>\n",
       "      <td>6.2</td>\n",
       "      <td>3.4</td>\n",
       "      <td>5.4</td>\n",
       "      <td>2.3</td>\n",
       "      <td>2</td>\n",
       "    </tr>\n",
       "    <tr>\n",
       "      <th>149</th>\n",
       "      <td>150</td>\n",
       "      <td>5.9</td>\n",
       "      <td>3.0</td>\n",
       "      <td>5.1</td>\n",
       "      <td>1.8</td>\n",
       "      <td>2</td>\n",
       "    </tr>\n",
       "  </tbody>\n",
       "</table>\n",
       "<p>150 rows × 6 columns</p>\n",
       "</div>"
      ],
      "text/plain": [
       "      Id  SepalLengthCm  SepalWidthCm  PetalLengthCm  PetalWidthCm  Species\n",
       "0      1            5.1           3.5            1.4           0.2        0\n",
       "1      2            4.9           3.0            1.4           0.2        0\n",
       "2      3            4.7           3.2            1.3           0.2        0\n",
       "3      4            4.6           3.1            1.5           0.2        0\n",
       "4      5            5.0           3.6            1.4           0.2        0\n",
       "..   ...            ...           ...            ...           ...      ...\n",
       "145  146            6.7           3.0            5.2           2.3        2\n",
       "146  147            6.3           2.5            5.0           1.9        2\n",
       "147  148            6.5           3.0            5.2           2.0        2\n",
       "148  149            6.2           3.4            5.4           2.3        2\n",
       "149  150            5.9           3.0            5.1           1.8        2\n",
       "\n",
       "[150 rows x 6 columns]"
      ]
     },
     "execution_count": 210,
     "metadata": {},
     "output_type": "execute_result"
    }
   ],
   "source": [
    "df"
   ]
  },
  {
   "cell_type": "code",
   "execution_count": 211,
   "metadata": {},
   "outputs": [
    {
     "data": {
      "text/plain": [
       "array([0, 1, 2])"
      ]
     },
     "execution_count": 211,
     "metadata": {},
     "output_type": "execute_result"
    }
   ],
   "source": [
    "np.unique(df['Species'])"
   ]
  },
  {
   "cell_type": "code",
   "execution_count": 212,
   "metadata": {},
   "outputs": [],
   "source": [
    "\n",
    "df.shape\n",
    "\n",
    "data = df.values\n",
    "X = data[:, 3:5]\n",
    "y = data[:,-1]\n",
    "\n",
    "cluster_centres_list=[]\n",
    "pt_label_list=[]\n",
    "for j in range(2,10):\n",
    "    kmeans = KMeans(n_clusters=j).fit(X)\n",
    "    \n",
    "    clusters = kmeans.labels_\n",
    "    centers = kmeans.cluster_centers_\n",
    "\n",
    "    cluster_centres_list.append(centers)\n",
    "    pt_label_list.append(clusters)\n",
    "\n",
    "    "
   ]
  },
  {
   "cell_type": "code",
   "execution_count": 213,
   "metadata": {},
   "outputs": [
    {
     "name": "stdout",
     "output_type": "stream",
     "text": [
      "Number of Clusters: 2  𝑅𝑀𝑆𝑆𝑇𝐷: 0.566407772483026\n",
      "Number of Clusters: 3  𝑅𝑀𝑆𝑆𝑇𝐷: 0.47289586817475177\n",
      "Number of Clusters: 4  𝑅𝑀𝑆𝑆𝑇𝐷: 0.4221325498422287\n",
      "Number of Clusters: 5  𝑅𝑀𝑆𝑆𝑇𝐷: 0.297849597728725\n",
      "Number of Clusters: 6  𝑅𝑀𝑆𝑆𝑇𝐷: 0.2617555377176819\n",
      "Number of Clusters: 7  𝑅𝑀𝑆𝑆𝑇𝐷: 0.2445463439323429\n",
      "Number of Clusters: 8  𝑅𝑀𝑆𝑆𝑇𝐷: 0.2206447770521107\n",
      "Number of Clusters: 9  𝑅𝑀𝑆𝑆𝑇𝐷: 0.22908302333129602\n"
     ]
    }
   ],
   "source": [
    "RMSSTD(X,cluster_centres_list,pt_label_list)"
   ]
  },
  {
   "cell_type": "code",
   "execution_count": 214,
   "metadata": {},
   "outputs": [
    {
     "name": "stdout",
     "output_type": "stream",
     "text": [
      "Number of clusters: 2 RS:  0.9999983330083472\n",
      "Number of clusters: 3 RS:  0.9999993944358442\n",
      "Number of clusters: 4 RS:  0.9999996237979828\n",
      "Number of clusters: 5 RS:  0.99999973118462\n",
      "Number of clusters: 6 RS:  0.9999997857439653\n",
      "Number of clusters: 7 RS:  0.9999998218927563\n",
      "Number of clusters: 8 RS:  0.9999998493377973\n",
      "Number of clusters: 9 RS:  0.9999998751184205\n"
     ]
    }
   ],
   "source": [
    "r_squared(X,cluster_centres_list,pt_label_list)"
   ]
  },
  {
   "cell_type": "code",
   "execution_count": 215,
   "metadata": {},
   "outputs": [
    {
     "name": "stdout",
     "output_type": "stream",
     "text": [
      "Number of clusters: 2 Modified Hubert Statistic:  49.37450280341321\n",
      "Number of clusters: 3 Modified Hubert Statistic:  55.01613458645293\n",
      "Number of clusters: 4 Modified Hubert Statistic:  56.24031865888829\n",
      "Number of clusters: 5 Modified Hubert Statistic:  56.85929982972544\n",
      "Number of clusters: 6 Modified Hubert Statistic:  57.15942918013747\n",
      "Number of clusters: 7 Modified Hubert Statistic:  57.31285595519562\n",
      "Number of clusters: 8 Modified Hubert Statistic:  57.398346546257635\n",
      "Number of clusters: 9 Modified Hubert Statistic:  57.49007121188377\n"
     ]
    }
   ],
   "source": [
    "modified_hubert_statistic(X,cluster_centres_list,pt_label_list)"
   ]
  },
  {
   "cell_type": "code",
   "execution_count": 216,
   "metadata": {},
   "outputs": [
    {
     "name": "stdout",
     "output_type": "stream",
     "text": [
      "Number of clusters: 2 Calinski-Harabasz Index:  795.1887947943662\n",
      "Number of clusters: 3 Calinski-Harabasz Index:  1215.9292591281294\n",
      "Number of clusters: 4 Calinski-Harabasz Index:  1325.6310454685408\n",
      "Number of clusters: 5 Calinski-Harabasz Index:  1396.3476703370332\n",
      "Number of clusters: 6 Calinski-Harabasz Index:  1399.2051284609329\n",
      "Number of clusters: 7 Calinski-Harabasz Index:  1397.754005412969\n",
      "Number of clusters: 8 Calinski-Harabasz Index:  1410.1104410336038\n",
      "Number of clusters: 9 Calinski-Harabasz Index:  1481.7183058298313\n"
     ]
    }
   ],
   "source": [
    "calinski_harabasz_index(X,cluster_centres_list,pt_label_list)"
   ]
  },
  {
   "cell_type": "code",
   "execution_count": 217,
   "metadata": {},
   "outputs": [
    {
     "name": "stdout",
     "output_type": "stream",
     "text": [
      "256.0398605319133\n",
      "Number of clusters: 2 I Index:  29.416525548250213\n",
      "Number of clusters: 3 I Index:  48.1710822339103\n",
      "Number of clusters: 4 I Index:  44.91536030850397\n",
      "Number of clusters: 5 I Index:  44.33006400508775\n",
      "Number of clusters: 6 I Index:  40.22469288353706\n",
      "Number of clusters: 7 I Index:  39.72307973938825\n",
      "Number of clusters: 8 I Index:  32.17005317349478\n",
      "Number of clusters: 9 I Index:  31.35240638107754\n"
     ]
    }
   ],
   "source": [
    "I_index(X,cluster_centres_list,pt_label_list)"
   ]
  },
  {
   "cell_type": "code",
   "execution_count": null,
   "metadata": {},
   "outputs": [],
   "source": []
  },
  {
   "cell_type": "code",
   "execution_count": 218,
   "metadata": {},
   "outputs": [
    {
     "name": "stdout",
     "output_type": "stream",
     "text": [
      "Number of clusters: 2 Silhoutte Index:  0.6014273482207269\n",
      "Number of clusters: 3 Silhoutte Index:  0.5361557210711653\n",
      "Number of clusters: 4 Silhoutte Index:  0.3952306437895653\n",
      "Number of clusters: 5 Silhoutte Index:  0.6530327053014111\n",
      "Number of clusters: 6 Silhoutte Index:  0.4026753282312263\n",
      "Number of clusters: 7 Silhoutte Index:  0.7424223925131127\n",
      "Number of clusters: 8 Silhoutte Index:  0.5454365072323977\n",
      "Number of clusters: 9 Silhoutte Index:  0.5315732446626591\n"
     ]
    }
   ],
   "source": [
    "silhoutte_index(X,cluster_centres_list,pt_label_list)"
   ]
  },
  {
   "cell_type": "code",
   "execution_count": 219,
   "metadata": {},
   "outputs": [
    {
     "name": "stdout",
     "output_type": "stream",
     "text": [
      "Number of clusters: 2 Davies-Bouldin Index:  0.5307120894953905\n",
      "Number of clusters: 3 Davies-Bouldin Index:  1.4547522508507589\n",
      "Number of clusters: 4 Davies-Bouldin Index:  2.1748825428007468\n",
      "Number of clusters: 5 Davies-Bouldin Index:  3.1310569860595865\n",
      "Number of clusters: 6 Davies-Bouldin Index:  4.113344103695333\n",
      "Number of clusters: 7 Davies-Bouldin Index:  4.260314815222216\n",
      "Number of clusters: 8 Davies-Bouldin Index:  5.541634135021778\n",
      "Number of clusters: 9 Davies-Bouldin Index:  5.729288589031187\n"
     ]
    }
   ],
   "source": [
    "Davies_Bouldin_Index(X,cluster_centres_list,pt_label_list)"
   ]
  },
  {
   "cell_type": "code",
   "execution_count": 220,
   "metadata": {},
   "outputs": [
    {
     "name": "stdout",
     "output_type": "stream",
     "text": [
      "Number of clusters: 2 Xie Beni Index:  6.264776406071277\n",
      "Number of clusters: 3 Xie Beni Index:  13.99261092178463\n",
      "Number of clusters: 4 Xie Beni Index:  21.824271194178188\n",
      "Number of clusters: 5 Xie Beni Index:  17.92782151665318\n",
      "Number of clusters: 6 Xie Beni Index:  26.439371353552023\n",
      "Number of clusters: 7 Xie Beni Index:  29.914375683031093\n",
      "Number of clusters: 8 Xie Beni Index:  29.607553323605924\n",
      "Number of clusters: 9 Xie Beni Index:  24.78738178798339\n"
     ]
    }
   ],
   "source": [
    "Xie_Beni_Index(X,cluster_centres_list,pt_label_list)"
   ]
  },
  {
   "cell_type": "code",
   "execution_count": 221,
   "metadata": {},
   "outputs": [
    {
     "name": "stdout",
     "output_type": "stream",
     "text": [
      "Number of clusters: 2 SD Validity Index:  0.8573539952729108\n",
      "Number of clusters: 3 SD Validity Index:  1.7916203312827874\n",
      "Number of clusters: 4 SD Validity Index:  3.0303458231857814\n",
      "Number of clusters: 5 SD Validity Index:  3.436666344977046\n",
      "Number of clusters: 6 SD Validity Index:  4.961552017576358\n",
      "Number of clusters: 7 SD Validity Index:  5.906618067860764\n",
      "Number of clusters: 8 SD Validity Index:  6.5939495046093075\n",
      "Number of clusters: 9 SD Validity Index:  6.902434894779104\n"
     ]
    }
   ],
   "source": [
    "SD_validity_index(X,cluster_centres_list,pt_label_list)"
   ]
  },
  {
   "cell_type": "code",
   "execution_count": 222,
   "metadata": {},
   "outputs": [
    {
     "name": "stdout",
     "output_type": "stream",
     "text": [
      "Number of clusters: 2 S_Dbw: 0.6388164373972762\n",
      "Number of clusters: 3 S_Dbw: 0.8156269894613086\n",
      "Number of clusters: 4 S_Dbw: 0.7319831699184166\n",
      "Number of clusters: 5 S_Dbw: 0.6734700533326072\n",
      "Number of clusters: 6 S_Dbw: 0.5837203994935237\n",
      "Number of clusters: 7 S_Dbw: 0.4019485234759874\n",
      "Number of clusters: 8 S_Dbw: 0.44988288218073735\n",
      "Number of clusters: 9 S_Dbw: 0.49811917692595203\n"
     ]
    }
   ],
   "source": [
    "s_dbw(X,cluster_centres_list,pt_label_list)"
   ]
  }
 ],
 "metadata": {
  "kernelspec": {
   "display_name": "Python 3.8.10 64-bit",
   "language": "python",
   "name": "python3"
  },
  "language_info": {
   "codemirror_mode": {
    "name": "ipython",
    "version": 3
   },
   "file_extension": ".py",
   "mimetype": "text/x-python",
   "name": "python",
   "nbconvert_exporter": "python",
   "pygments_lexer": "ipython3",
   "version": "3.8.10"
  },
  "orig_nbformat": 4,
  "vscode": {
   "interpreter": {
    "hash": "5b3ded1ccb95c1d9bd405e7b823d9e85424cde40fbb5985eb47e999ef50e15b4"
   }
  }
 },
 "nbformat": 4,
 "nbformat_minor": 2
}
