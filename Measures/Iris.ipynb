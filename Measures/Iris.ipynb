{
 "cells": [
  {
   "cell_type": "code",
   "execution_count": 2,
   "metadata": {},
   "outputs": [],
   "source": [
    "import numpy as np\n",
    "import pandas as pd\n",
    "import seaborn as sns\n",
    "from matplotlib import pyplot as plt\n",
    "from sklearn.cluster import KMeans\n",
    "from sklearn.preprocessing import LabelEncoder\n",
    "from sklearn.metrics import classification_report\n",
    "from sklearn.metrics import accuracy_score"
   ]
  },
  {
   "cell_type": "code",
   "execution_count": 3,
   "metadata": {},
   "outputs": [],
   "source": [
    "from RMSSTD import RMSSTD\n",
    "from R_squared import r_squared\n",
    "from SD_validity import SD_validity_index\n",
    "from Hubert_statistic import modified_hubert_statistic\n",
    "from Silhouette import silhoutte_index\n",
    "from Sdb_w import s_dbw\n",
    "from I import I_index\n",
    "from Dunn import dunn_index\n",
    "from Xie_Beni import Xie_Beni_Index\n",
    "from CH import calinski_harabasz_index\n",
    "from Davies_Bouldin import Davies_Bouldin_Index"
   ]
  },
  {
   "cell_type": "code",
   "execution_count": 4,
   "metadata": {},
   "outputs": [
    {
     "data": {
      "text/plain": [
       "Text(0.5, 1.0, 'Scatter Plot')"
      ]
     },
     "execution_count": 4,
     "metadata": {},
     "output_type": "execute_result"
    },
    {
     "data": {
      "image/png": "[encoded data removed]",
      "text/plain": [
       "<Figure size 640x480 with 1 Axes>"
      ]
     },
     "metadata": {},
     "output_type": "display_data"
    }
   ],
   "source": [
    "df = pd.read_csv(\"../Datasets/Iris.csv\")\n",
    "df.head(n=10)\n",
    "\n",
    "\n",
    "ax = df[df.Species=='Iris-setosa'].plot.scatter(x='SepalLengthCm', y='SepalWidthCm',\n",
    "                                                    color='red', label='Iris - Setosa')\n",
    "df[df.Species=='Iris-versicolor'].plot.scatter(x='SepalLengthCm', y='SepalWidthCm',\n",
    "                                                color='green', label='Iris - Versicolor', ax=ax)\n",
    "df[df.Species=='Iris-virginica'].plot.scatter(x='SepalLengthCm', y='SepalWidthCm',\n",
    "                                                color='blue', label='Iris - Virginica', ax=ax)\n",
    "ax.set_title(\"Scatter Plot\")"
   ]
  },
  {
   "cell_type": "code",
   "execution_count": 5,
   "metadata": {},
   "outputs": [],
   "source": [
    "enc = LabelEncoder()\n",
    "df['Species'] = enc.fit_transform(df['Species'])"
   ]
  },
  {
   "cell_type": "code",
   "execution_count": 6,
   "metadata": {},
   "outputs": [
    {
     "data": {
      "text/html": [
       "<div>\n",
       "<style scoped>\n",
       "    .dataframe tbody tr th:only-of-type {\n",
       "        vertical-align: middle;\n",
       "    }\n",
       "\n",
       "    .dataframe tbody tr th {\n",
       "        vertical-align: top;\n",
       "    }\n",
       "\n",
       "    .dataframe thead th {\n",
       "        text-align: right;\n",
       "    }\n",
       "</style>\n",
       "<table border=\"1\" class=\"dataframe\">\n",
       "  <thead>\n",
       "    <tr style=\"text-align: right;\">\n",
       "      <th></th>\n",
       "      <th>Id</th>\n",
       "      <th>SepalLengthCm</th>\n",
       "      <th>SepalWidthCm</th>\n",
       "      <th>PetalLengthCm</th>\n",
       "      <th>PetalWidthCm</th>\n",
       "      <th>Species</th>\n",
       "    </tr>\n",
       "  </thead>\n",
       "  <tbody>\n",
       "    <tr>\n",
       "      <th>0</th>\n",
       "      <td>1</td>\n",
       "      <td>5.1</td>\n",
       "      <td>3.5</td>\n",
       "      <td>1.4</td>\n",
       "      <td>0.2</td>\n",
       "      <td>0</td>\n",
       "    </tr>\n",
       "    <tr>\n",
       "      <th>1</th>\n",
       "      <td>2</td>\n",
       "      <td>4.9</td>\n",
       "      <td>3.0</td>\n",
       "      <td>1.4</td>\n",
       "      <td>0.2</td>\n",
       "      <td>0</td>\n",
       "    </tr>\n",
       "    <tr>\n",
       "      <th>2</th>\n",
       "      <td>3</td>\n",
       "      <td>4.7</td>\n",
       "      <td>3.2</td>\n",
       "      <td>1.3</td>\n",
       "      <td>0.2</td>\n",
       "      <td>0</td>\n",
       "    </tr>\n",
       "    <tr>\n",
       "      <th>3</th>\n",
       "      <td>4</td>\n",
       "      <td>4.6</td>\n",
       "      <td>3.1</td>\n",
       "      <td>1.5</td>\n",
       "      <td>0.2</td>\n",
       "      <td>0</td>\n",
       "    </tr>\n",
       "    <tr>\n",
       "      <th>4</th>\n",
       "      <td>5</td>\n",
       "      <td>5.0</td>\n",
       "      <td>3.6</td>\n",
       "      <td>1.4</td>\n",
       "      <td>0.2</td>\n",
       "      <td>0</td>\n",
       "    </tr>\n",
       "    <tr>\n",
       "      <th>...</th>\n",
       "      <td>...</td>\n",
       "      <td>...</td>\n",
       "      <td>...</td>\n",
       "      <td>...</td>\n",
       "      <td>...</td>\n",
       "      <td>...</td>\n",
       "    </tr>\n",
       "    <tr>\n",
       "      <th>145</th>\n",
       "      <td>146</td>\n",
       "      <td>6.7</td>\n",
       "      <td>3.0</td>\n",
       "      <td>5.2</td>\n",
       "      <td>2.3</td>\n",
       "      <td>2</td>\n",
       "    </tr>\n",
       "    <tr>\n",
       "      <th>146</th>\n",
       "      <td>147</td>\n",
       "      <td>6.3</td>\n",
       "      <td>2.5</td>\n",
       "      <td>5.0</td>\n",
       "      <td>1.9</td>\n",
       "      <td>2</td>\n",
       "    </tr>\n",
       "    <tr>\n",
       "      <th>147</th>\n",
       "      <td>148</td>\n",
       "      <td>6.5</td>\n",
       "      <td>3.0</td>\n",
       "      <td>5.2</td>\n",
       "      <td>2.0</td>\n",
       "      <td>2</td>\n",
       "    </tr>\n",
       "    <tr>\n",
       "      <th>148</th>\n",
       "      <td>149</td>\n",
       "      <td>6.2</td>\n",
       "      <td>3.4</td>\n",
       "      <td>5.4</td>\n",
       "      <td>2.3</td>\n",
       "      <td>2</td>\n",
       "    </tr>\n",
       "    <tr>\n",
       "      <th>149</th>\n",
       "      <td>150</td>\n",
       "      <td>5.9</td>\n",
       "      <td>3.0</td>\n",
       "      <td>5.1</td>\n",
       "      <td>1.8</td>\n",
       "      <td>2</td>\n",
       "    </tr>\n",
       "  </tbody>\n",
       "</table>\n",
       "<p>150 rows × 6 columns</p>\n",
       "</div>"
      ],
      "text/plain": [
       "      Id  SepalLengthCm  SepalWidthCm  PetalLengthCm  PetalWidthCm  Species\n",
       "0      1            5.1           3.5            1.4           0.2        0\n",
       "1      2            4.9           3.0            1.4           0.2        0\n",
       "2      3            4.7           3.2            1.3           0.2        0\n",
       "3      4            4.6           3.1            1.5           0.2        0\n",
       "4      5            5.0           3.6            1.4           0.2        0\n",
       "..   ...            ...           ...            ...           ...      ...\n",
       "145  146            6.7           3.0            5.2           2.3        2\n",
       "146  147            6.3           2.5            5.0           1.9        2\n",
       "147  148            6.5           3.0            5.2           2.0        2\n",
       "148  149            6.2           3.4            5.4           2.3        2\n",
       "149  150            5.9           3.0            5.1           1.8        2\n",
       "\n",
       "[150 rows x 6 columns]"
      ]
     },
     "execution_count": 6,
     "metadata": {},
     "output_type": "execute_result"
    }
   ],
   "source": [
    "df"
   ]
  },
  {
   "cell_type": "code",
   "execution_count": 7,
   "metadata": {},
   "outputs": [
    {
     "data": {
      "text/plain": [
       "array([0, 1, 2])"
      ]
     },
     "execution_count": 7,
     "metadata": {},
     "output_type": "execute_result"
    }
   ],
   "source": [
    "np.unique(df['Species'])"
   ]
  },
  {
   "cell_type": "code",
   "execution_count": 8,
   "metadata": {},
   "outputs": [],
   "source": [
    "\n",
    "df.shape\n",
    "\n",
    "data = df.values\n",
    "X = data[:, 1:4]\n",
    "y = data[:,-1]\n",
    "\n",
    "cluster_centres_list=[]\n",
    "pt_label_list=[]\n",
    "for j in range(2,10):\n",
    "    kmeans = KMeans(n_clusters=j, random_state=0).fit(X)\n",
    "    \n",
    "    clusters = kmeans.labels_\n",
    "    centers = kmeans.cluster_centers_\n",
    "\n",
    "    cluster_centres_list.append(centers)\n",
    "    pt_label_list.append(clusters)\n",
    "\n",
    "    "
   ]
  },
  {
   "cell_type": "code",
   "execution_count": 9,
   "metadata": {},
   "outputs": [
    {
     "name": "stdout",
     "output_type": "stream",
     "text": [
      "Number of Clusters: 2  𝑅𝑀𝑆𝑆𝑇𝐷: 0.7777759075742062\n",
      "Number of Clusters: 3  𝑅𝑀𝑆𝑆𝑇𝐷: 0.6405446518933796\n",
      "Number of Clusters: 4  𝑅𝑀𝑆𝑆𝑇𝐷: 0.5449902324703095\n",
      "Number of Clusters: 5  𝑅𝑀𝑆𝑆𝑇𝐷: 0.5246679795449108\n",
      "Number of Clusters: 6  𝑅𝑀𝑆𝑆𝑇𝐷: 0.5055832824774261\n",
      "Number of Clusters: 7  𝑅𝑀𝑆𝑆𝑇𝐷: 0.4660558862521543\n",
      "Number of Clusters: 8  𝑅𝑀𝑆𝑆𝑇𝐷: 0.45292597339211765\n",
      "Number of Clusters: 9  𝑅𝑀𝑆𝑆𝑇𝐷: 0.4662751058366689\n"
     ]
    }
   ],
   "source": [
    "RMSSTD(X,cluster_centres_list,pt_label_list)"
   ]
  },
  {
   "cell_type": "code",
   "execution_count": 10,
   "metadata": {},
   "outputs": [
    {
     "name": "stdout",
     "output_type": "stream",
     "text": [
      "Number of clusters: 2 RS:  0.9999993042367455\n",
      "Number of clusters: 3 RS:  0.9999996376691422\n",
      "Number of clusters: 4 RS:  0.999999741894701\n",
      "Number of clusters: 5 RS:  0.9999997887336984\n",
      "Number of clusters: 6 RS:  0.9999998277628916\n",
      "Number of clusters: 7 RS:  0.9999998477093666\n",
      "Number of clusters: 8 RS:  0.9999998676640475\n",
      "Number of clusters: 9 RS:  0.999999876926271\n"
     ]
    }
   ],
   "source": [
    "r_squared(X,cluster_centres_list,pt_label_list)"
   ]
  },
  {
   "cell_type": "code",
   "execution_count": 11,
   "metadata": {},
   "outputs": [
    {
     "name": "stdout",
     "output_type": "stream",
     "text": [
      "Number of clusters: 2 Modified Hubert Statistic:  50.72583321491145\n",
      "Number of clusters: 3 Modified Hubert Statistic:  57.281331136372216\n",
      "Number of clusters: 4 Modified Hubert Statistic:  59.39730741160476\n",
      "Number of clusters: 5 Modified Hubert Statistic:  60.4430544151251\n",
      "Number of clusters: 6 Modified Hubert Statistic:  60.832073761151634\n",
      "Number of clusters: 7 Modified Hubert Statistic:  61.10559226112649\n",
      "Number of clusters: 8 Modified Hubert Statistic:  61.31222360526349\n",
      "Number of clusters: 9 Modified Hubert Statistic:  61.38844447807128\n"
     ]
    }
   ],
   "source": [
    "modified_hubert_statistic(X,cluster_centres_list,pt_label_list)"
   ]
  },
  {
   "cell_type": "code",
   "execution_count": 12,
   "metadata": {},
   "outputs": [
    {
     "name": "stdout",
     "output_type": "stream",
     "text": [
      "Number of clusters: 2 Calinski-Harabasz Index:  510.77783027004307\n",
      "Number of clusters: 3 Calinski-Harabasz Index:  554.7330290921345\n",
      "Number of clusters: 4 Calinski-Harabasz Index:  535.2803295340659\n",
      "Number of clusters: 5 Calinski-Harabasz Index:  495.1438574257695\n",
      "Number of clusters: 6 Calinski-Harabasz Index:  489.05063221521607\n",
      "Number of clusters: 7 Calinski-Harabasz Index:  460.84135861693596\n",
      "Number of clusters: 8 Calinski-Harabasz Index:  454.44923549379536\n",
      "Number of clusters: 9 Calinski-Harabasz Index:  425.88407919606135\n"
     ]
    }
   ],
   "source": [
    "calinski_harabasz_index(X,cluster_centres_list,pt_label_list)"
   ]
  },
  {
   "cell_type": "code",
   "execution_count": 13,
   "metadata": {},
   "outputs": [
    {
     "name": "stdout",
     "output_type": "stream",
     "text": [
      "272.1188899627258\n",
      "Number of clusters: 2 I Index:  17.751042183333396\n",
      "Number of clusters: 3 I Index:  21.330854711915773\n",
      "Number of clusters: 4 I Index:  19.404615445373874\n",
      "Number of clusters: 5 I Index:  18.445122855222916\n",
      "Number of clusters: 6 I Index:  16.56799674871051\n",
      "Number of clusters: 7 I Index:  12.886090239934694\n",
      "Number of clusters: 8 I Index:  11.939101493432682\n",
      "Number of clusters: 9 I Index:  10.260595421074292\n"
     ]
    }
   ],
   "source": [
    "I_index(X,cluster_centres_list,pt_label_list)"
   ]
  },
  {
   "cell_type": "code",
   "execution_count": 14,
   "metadata": {},
   "outputs": [
    {
     "name": "stdout",
     "output_type": "stream",
     "text": [
      "Number of clusters: 2 Dunn Index:  0.8866479449664635\n",
      "Number of clusters: 3 Dunn Index:  0.13736056394868892\n",
      "Number of clusters: 4 Dunn Index:  0.3553587813481307\n",
      "Number of clusters: 5 Dunn Index:  0.37961138483118423\n",
      "Number of clusters: 6 Dunn Index:  0.1477635311413855\n",
      "Number of clusters: 7 Dunn Index:  0.2804490780752514\n",
      "Number of clusters: 8 Dunn Index:  0.1676003807884979\n",
      "Number of clusters: 9 Dunn Index:  0.18690772540639894\n"
     ]
    }
   ],
   "source": [
    "dunn_index(X,pt_label_list)"
   ]
  },
  {
   "cell_type": "code",
   "execution_count": 15,
   "metadata": {},
   "outputs": [
    {
     "name": "stdout",
     "output_type": "stream",
     "text": [
      "Number of clusters: 2 Silhoutte Index:  0.46366238458221554\n",
      "Number of clusters: 3 Silhoutte Index:  0.5057109361202273\n",
      "Number of clusters: 4 Silhoutte Index:  0.4712536824452349\n",
      "Number of clusters: 5 Silhoutte Index:  0.37209706742913806\n",
      "Number of clusters: 6 Silhoutte Index:  0.6555908458933436\n",
      "Number of clusters: 7 Silhoutte Index:  0.574595367261853\n",
      "Number of clusters: 8 Silhoutte Index:  0.4238729795925201\n",
      "Number of clusters: 9 Silhoutte Index:  0.516031913308022\n"
     ]
    }
   ],
   "source": [
    "silhoutte_index(X,cluster_centres_list,pt_label_list)"
   ]
  },
  {
   "cell_type": "code",
   "execution_count": 16,
   "metadata": {},
   "outputs": [
    {
     "name": "stdout",
     "output_type": "stream",
     "text": [
      "Number of clusters: 2 Davies-Bouldin Index:  0.8041956939298105\n",
      "Number of clusters: 3 Davies-Bouldin Index:  1.9741581130731365\n",
      "Number of clusters: 4 Davies-Bouldin Index:  2.8472081309551784\n",
      "Number of clusters: 5 Davies-Bouldin Index:  3.957580099050338\n",
      "Number of clusters: 6 Davies-Bouldin Index:  5.321649409853366\n",
      "Number of clusters: 7 Davies-Bouldin Index:  6.390328035177824\n",
      "Number of clusters: 8 Davies-Bouldin Index:  6.996974703478713\n",
      "Number of clusters: 9 Davies-Bouldin Index:  8.306562874615159\n"
     ]
    }
   ],
   "source": [
    "Davies_Bouldin_Index(X,cluster_centres_list,pt_label_list)"
   ]
  },
  {
   "cell_type": "code",
   "execution_count": 17,
   "metadata": {},
   "outputs": [
    {
     "name": "stdout",
     "output_type": "stream",
     "text": [
      "Number of clusters: 2 Xie Beni Index:  9.930840832797262\n",
      "Number of clusters: 3 Xie Beni Index:  25.227339038907786\n",
      "Number of clusters: 4 Xie Beni Index:  30.842835350497214\n",
      "Number of clusters: 5 Xie Beni Index:  47.82976949261349\n",
      "Number of clusters: 6 Xie Beni Index:  54.80986690973831\n",
      "Number of clusters: 7 Xie Beni Index:  48.766153372144494\n",
      "Number of clusters: 8 Xie Beni Index:  57.30485804281934\n",
      "Number of clusters: 9 Xie Beni Index:  59.839131542601585\n"
     ]
    }
   ],
   "source": [
    "Xie_Beni_Index(X,cluster_centres_list,pt_label_list)"
   ]
  },
  {
   "cell_type": "code",
   "execution_count": 18,
   "metadata": {},
   "outputs": [
    {
     "name": "stdout",
     "output_type": "stream",
     "text": [
      "Number of clusters: 2 SD Validity Index:  0.9865091532836541\n",
      "Number of clusters: 3 SD Validity Index:  1.7229771891087515\n",
      "Number of clusters: 4 SD Validity Index:  2.306624126979443\n",
      "Number of clusters: 5 SD Validity Index:  3.294852641334154\n",
      "Number of clusters: 6 SD Validity Index:  3.3817810138813797\n",
      "Number of clusters: 7 SD Validity Index:  3.4999334155988233\n",
      "Number of clusters: 8 SD Validity Index:  4.194902148984001\n",
      "Number of clusters: 9 SD Validity Index:  4.228898041131392\n"
     ]
    }
   ],
   "source": [
    "SD_validity_index(X,cluster_centres_list,pt_label_list)"
   ]
  },
  {
   "cell_type": "code",
   "execution_count": 19,
   "metadata": {},
   "outputs": [
    {
     "name": "stdout",
     "output_type": "stream",
     "text": [
      "Number of clusters: 2 S_Dbw: 0.6514634533104668\n",
      "Number of clusters: 3 S_Dbw: 1.1733407354260121\n",
      "Number of clusters: 4 S_Dbw: 0.8465259156539541\n",
      "Number of clusters: 5 S_Dbw: 0.7399747914809514\n",
      "Number of clusters: 6 S_Dbw: 0.7073293543187775\n",
      "Number of clusters: 7 S_Dbw: 0.6300393694793468\n",
      "Number of clusters: 8 S_Dbw: 0.553977294912205\n",
      "Number of clusters: 9 S_Dbw: 0.5856331995295965\n"
     ]
    }
   ],
   "source": [
    "s_dbw(X,cluster_centres_list,pt_label_list)"
   ]
  }
 ],
 "metadata": {
  "kernelspec": {
   "display_name": "Python 3.8.10 64-bit",
   "language": "python",
   "name": "python3"
  },
  "language_info": {
   "codemirror_mode": {
    "name": "ipython",
    "version": 3
   },
   "file_extension": ".py",
   "mimetype": "text/x-python",
   "name": "python",
   "nbconvert_exporter": "python",
   "pygments_lexer": "ipython3",
   "version": "3.8.10"
  },
  "orig_nbformat": 4,
  "vscode": {
   "interpreter": {
    "hash": "5b3ded1ccb95c1d9bd405e7b823d9e85424cde40fbb5985eb47e999ef50e15b4"
   }
  }
 },
 "nbformat": 4,
 "nbformat_minor": 2
}
