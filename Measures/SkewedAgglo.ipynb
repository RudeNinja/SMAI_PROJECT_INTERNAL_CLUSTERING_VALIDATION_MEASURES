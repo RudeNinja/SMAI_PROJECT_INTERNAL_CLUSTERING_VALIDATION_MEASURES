{
 "cells": [
  {
   "cell_type": "code",
   "execution_count": 116,
   "metadata": {},
   "outputs": [],
   "source": [
    "import numpy as np\n",
    "import pandas as pd\n",
    "from matplotlib import pyplot as plt\n",
    "from sklearn.cluster import AgglomerativeClustering\n"
   ]
  },
  {
   "cell_type": "code",
   "execution_count": 117,
   "metadata": {},
   "outputs": [],
   "source": [
    "from RMSSTD import RMSSTD\n",
    "from R_squared import r_squared\n",
    "from SD_validity import SD_validity_index\n",
    "from Hubert_statistic import modified_hubert_statistic\n",
    "from Silhouette import silhoutte_index\n",
    "from Sdb_w import s_dbw\n",
    "from I import I_index\n",
    "from Dunn import dunn_index\n",
    "from Xie_Beni import Xie_Beni_Index\n",
    "from CH import calinski_harabasz_index\n",
    "from Davies_Bouldin import Davies_Bouldin_Index"
   ]
  },
  {
   "cell_type": "code",
   "execution_count": 118,
   "metadata": {},
   "outputs": [
    {
     "name": "stdout",
     "output_type": "stream",
     "text": [
      "(250, 2)\n"
     ]
    },
    {
     "data": {
      "text/plain": [
       "Text(0.5, 1.0, 'Skewed Dataset')"
      ]
     },
     "execution_count": 118,
     "metadata": {},
     "output_type": "execute_result"
    },
    {
     "data": {
      "image/png": "[encoded data removed]",
      "text/plain": [
       "<Figure size 640x480 with 1 Axes>"
      ]
     },
     "metadata": {},
     "output_type": "display_data"
    }
   ],
   "source": [
    "arr = np.loadtxt(\"../Datasets/Skewed.csv\",delimiter=',')\n",
    "print(arr.shape)\n",
    "plt.plot(arr[:,0],arr[:,1],'.')\n",
    "plt.title('Skewed Dataset')"
   ]
  },
  {
   "cell_type": "code",
   "execution_count": 119,
   "metadata": {},
   "outputs": [],
   "source": [
    "cluster_centres_list=[]\n",
    "pt_label_list=[]\n",
    "for j in range(2,10):\n",
    "    kmeans = AgglomerativeClustering(n_clusters=j).fit(arr)\n",
    "    \n",
    "    pt_label = kmeans.labels_\n",
    "    num = np.unique(pt_label)\n",
    "    cluster_centres = np.zeros((len(num),2))\n",
    "    for i in range(len(num)):\n",
    "        cluster_centres[i] = np.mean(arr[pt_label==num[i]],axis=0)\n",
    "    \n",
    "    cluster_centres_list.append(cluster_centres)\n",
    "    pt_label_list.append(pt_label)\n"
   ]
  },
  {
   "cell_type": "code",
   "execution_count": 120,
   "metadata": {},
   "outputs": [
    {
     "name": "stdout",
     "output_type": "stream",
     "text": [
      "Number of Clusters: 2  𝑅𝑀𝑆𝑆𝑇𝐷: 1.733066094402663\n",
      "Number of Clusters: 3  𝑅𝑀𝑆𝑆𝑇𝐷: 1.0186272114130048\n",
      "Number of Clusters: 4  𝑅𝑀𝑆𝑆𝑇𝐷: 1.04483461713043\n",
      "Number of Clusters: 5  𝑅𝑀𝑆𝑆𝑇𝐷: 1.1216678325399596\n",
      "Number of Clusters: 6  𝑅𝑀𝑆𝑆𝑇𝐷: 0.9055790483380128\n",
      "Number of Clusters: 7  𝑅𝑀𝑆𝑆𝑇𝐷: 0.8961331331736103\n",
      "Number of Clusters: 8  𝑅𝑀𝑆𝑆𝑇𝐷: 0.9509080682316148\n",
      "Number of Clusters: 9  𝑅𝑀𝑆𝑆𝑇𝐷: 0.9401817375910402\n"
     ]
    }
   ],
   "source": [
    "RMSSTD(arr,cluster_centres_list,pt_label_list)"
   ]
  },
  {
   "cell_type": "code",
   "execution_count": 121,
   "metadata": {},
   "outputs": [
    {
     "name": "stdout",
     "output_type": "stream",
     "text": [
      "Number of clusters: 2 RS:  0.9999742285758935\n",
      "Number of clusters: 3 RS:  0.9999877275873366\n",
      "Number of clusters: 4 RS:  0.9999901800285702\n",
      "Number of clusters: 5 RS:  0.9999918063871139\n",
      "Number of clusters: 6 RS:  0.9999931757854417\n",
      "Number of clusters: 7 RS:  0.9999938648643026\n",
      "Number of clusters: 8 RS:  0.9999944662915292\n",
      "Number of clusters: 9 RS:  0.999995033441256\n"
     ]
    }
   ],
   "source": [
    "r_squared(arr,cluster_centres_list,pt_label_list)"
   ]
  },
  {
   "cell_type": "code",
   "execution_count": 122,
   "metadata": {},
   "outputs": [
    {
     "name": "stdout",
     "output_type": "stream",
     "text": [
      "Number of clusters: 2 Modified Hubert Statistic:  143.3554882336189\n",
      "Number of clusters: 3 Modified Hubert Statistic:  166.3862802592925\n",
      "Number of clusters: 4 Modified Hubert Statistic:  171.23320320042214\n",
      "Number of clusters: 5 Modified Hubert Statistic:  174.01644891578664\n",
      "Number of clusters: 6 Modified Hubert Statistic:  177.68740163383123\n",
      "Number of clusters: 7 Modified Hubert Statistic:  178.64131084660562\n",
      "Number of clusters: 8 Modified Hubert Statistic:  179.80645199038898\n",
      "Number of clusters: 9 Modified Hubert Statistic:  181.49788228373825\n"
     ]
    }
   ],
   "source": [
    "modified_hubert_statistic(arr,cluster_centres_list,pt_label_list)"
   ]
  },
  {
   "cell_type": "code",
   "execution_count": 123,
   "metadata": {},
   "outputs": [
    {
     "name": "stdout",
     "output_type": "stream",
     "text": [
      "Number of clusters: 2 Calinski-Harabasz Index:  482.6905611604765\n",
      "Number of clusters: 3 Calinski-Harabasz Index:  640.6123901978704\n",
      "Number of clusters: 4 Calinski-Harabasz Index:  552.0505192563274\n",
      "Number of clusters: 5 Calinski-Harabasz Index:  506.36110807423574\n",
      "Number of clusters: 6 Calinski-Harabasz Index:  494.18443884427205\n",
      "Number of clusters: 7 Calinski-Harabasz Index:  460.746190191733\n",
      "Number of clusters: 8 Calinski-Harabasz Index:  439.80301592409165\n",
      "Number of clusters: 9 Calinski-Harabasz Index:  430.44082939511895\n"
     ]
    }
   ],
   "source": [
    "calinski_harabasz_index(arr,cluster_centres_list,pt_label_list)"
   ]
  },
  {
   "cell_type": "code",
   "execution_count": 124,
   "metadata": {},
   "outputs": [
    {
     "name": "stdout",
     "output_type": "stream",
     "text": [
      "684.682056182688\n",
      "Number of clusters: 2 I Index:  19.825940484593904\n",
      "Number of clusters: 3 I Index:  22.61764300987276\n",
      "Number of clusters: 4 I Index:  18.96944787690228\n",
      "Number of clusters: 5 I Index:  14.202967402376123\n",
      "Number of clusters: 6 I Index:  14.401105277861902\n",
      "Number of clusters: 7 I Index:  13.262308018744308\n",
      "Number of clusters: 8 I Index:  12.829307145953187\n",
      "Number of clusters: 9 I Index:  11.183196613920034\n"
     ]
    }
   ],
   "source": [
    "I_index(arr,cluster_centres_list,pt_label_list)"
   ]
  },
  {
   "cell_type": "code",
   "execution_count": 125,
   "metadata": {},
   "outputs": [
    {
     "name": "stdout",
     "output_type": "stream",
     "text": [
      "Number of clusters: 2 Dunn Index:  0.6931800839462132\n",
      "Number of clusters: 3 Dunn Index:  0.5951594667619786\n",
      "Number of clusters: 4 Dunn Index:  0.14124605884593872\n",
      "Number of clusters: 5 Dunn Index:  0.16115036196165491\n",
      "Number of clusters: 6 Dunn Index:  0.16115036196165491\n",
      "Number of clusters: 7 Dunn Index:  0.10227032221375956\n",
      "Number of clusters: 8 Dunn Index:  0.06800738000315416\n",
      "Number of clusters: 9 Dunn Index:  0.06800738000315416\n"
     ]
    }
   ],
   "source": [
    "dunn_index(arr,pt_label_list)"
   ]
  },
  {
   "cell_type": "code",
   "execution_count": 126,
   "metadata": {},
   "outputs": [
    {
     "name": "stdout",
     "output_type": "stream",
     "text": [
      "Number of clusters: 2 Silhoutte Index:  0.2768274281205041\n",
      "Number of clusters: 3 Silhoutte Index:  0.3995364648333399\n",
      "Number of clusters: 4 Silhoutte Index:  0.4681235544830135\n",
      "Number of clusters: 5 Silhoutte Index:  0.1828556812298358\n",
      "Number of clusters: 6 Silhoutte Index:  0.6476908641447531\n",
      "Number of clusters: 7 Silhoutte Index:  0.33037746236742177\n",
      "Number of clusters: 8 Silhoutte Index:  0.4023385072271249\n",
      "Number of clusters: 9 Silhoutte Index:  0.5869136737270427\n"
     ]
    }
   ],
   "source": [
    "silhoutte_index(arr,cluster_centres_list,pt_label_list)"
   ]
  },
  {
   "cell_type": "code",
   "execution_count": 127,
   "metadata": {},
   "outputs": [
    {
     "name": "stdout",
     "output_type": "stream",
     "text": [
      "Number of clusters: 2 Davies-Bouldin Index:  1.3146565386333695\n",
      "Number of clusters: 3 Davies-Bouldin Index:  1.4359521950159868\n",
      "Number of clusters: 4 Davies-Bouldin Index:  3.4389307697434086\n",
      "Number of clusters: 5 Davies-Bouldin Index:  4.092890155117589\n",
      "Number of clusters: 6 Davies-Bouldin Index:  5.321417872487962\n",
      "Number of clusters: 7 Davies-Bouldin Index:  6.76407118892246\n",
      "Number of clusters: 8 Davies-Bouldin Index:  7.362147744903725\n",
      "Number of clusters: 9 Davies-Bouldin Index:  9.13799309892955\n"
     ]
    }
   ],
   "source": [
    "Davies_Bouldin_Index(arr,cluster_centres_list,pt_label_list)"
   ]
  },
  {
   "cell_type": "code",
   "execution_count": 128,
   "metadata": {},
   "outputs": [
    {
     "name": "stdout",
     "output_type": "stream",
     "text": [
      "Number of clusters: 2 Xie Beni Index:  30.82720317593482\n",
      "Number of clusters: 3 Xie Beni Index:  22.719263091827195\n",
      "Number of clusters: 4 Xie Beni Index:  140.5193837045948\n",
      "Number of clusters: 5 Xie Beni Index:  104.28867819926867\n",
      "Number of clusters: 6 Xie Beni Index:  86.85891388040572\n",
      "Number of clusters: 7 Xie Beni Index:  170.99464219086568\n",
      "Number of clusters: 8 Xie Beni Index:  141.9968763863665\n",
      "Number of clusters: 9 Xie Beni Index:  127.44361792465828\n"
     ]
    }
   ],
   "source": [
    "Xie_Beni_Index(arr,cluster_centres_list,pt_label_list)"
   ]
  },
  {
   "cell_type": "code",
   "execution_count": 129,
   "metadata": {},
   "outputs": [
    {
     "name": "stdout",
     "output_type": "stream",
     "text": [
      "Number of clusters: 2 SD Validity Index:  1.001175832158038\n",
      "Number of clusters: 3 SD Validity Index:  0.8306479764654582\n",
      "Number of clusters: 4 SD Validity Index:  1.6193640653802497\n",
      "Number of clusters: 5 SD Validity Index:  1.6293409765342168\n",
      "Number of clusters: 6 SD Validity Index:  1.5798994059180693\n",
      "Number of clusters: 7 SD Validity Index:  2.3348724067192284\n",
      "Number of clusters: 8 SD Validity Index:  2.3812828048943144\n",
      "Number of clusters: 9 SD Validity Index:  2.268197673596491\n"
     ]
    }
   ],
   "source": [
    "SD_validity_index(arr,cluster_centres_list,pt_label_list)"
   ]
  },
  {
   "cell_type": "code",
   "execution_count": 130,
   "metadata": {},
   "outputs": [
    {
     "name": "stdout",
     "output_type": "stream",
     "text": [
      "Number of clusters: 2 S_Dbw: 0.9327312600163551\n",
      "Number of clusters: 3 S_Dbw: 0.686136106810064\n",
      "Number of clusters: 4 S_Dbw: 0.7922105021083523\n",
      "Number of clusters: 5 S_Dbw: 1.1048119866616049\n",
      "Number of clusters: 6 S_Dbw: 0.9299831677906372\n",
      "Number of clusters: 7 S_Dbw: 0.9954084788334239\n",
      "Number of clusters: 8 S_Dbw: 0.959932148192622\n",
      "Number of clusters: 9 S_Dbw: 0.838233446766605\n"
     ]
    }
   ],
   "source": [
    "s_dbw(arr,cluster_centres_list,pt_label_list)"
   ]
  }
 ],
 "metadata": {
  "kernelspec": {
   "display_name": "Python 3.8.10 64-bit",
   "language": "python",
   "name": "python3"
  },
  "language_info": {
   "codemirror_mode": {
    "name": "ipython",
    "version": 3
   },
   "file_extension": ".py",
   "mimetype": "text/x-python",
   "name": "python",
   "nbconvert_exporter": "python",
   "pygments_lexer": "ipython3",
   "version": "3.8.10"
  },
  "orig_nbformat": 4,
  "vscode": {
   "interpreter": {
    "hash": "5b3ded1ccb95c1d9bd405e7b823d9e85424cde40fbb5985eb47e999ef50e15b4"
   }
  }
 },
 "nbformat": 4,
 "nbformat_minor": 2
}
