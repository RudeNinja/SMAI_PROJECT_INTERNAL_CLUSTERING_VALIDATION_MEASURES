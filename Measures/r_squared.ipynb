{
 "cells": [
  {
   "cell_type": "code",
   "execution_count": 10,
   "metadata": {},
   "outputs": [],
   "source": [
    "import numpy as np\n",
    "import pandas as pd\n",
    "from matplotlib import pyplot as plt\n",
    "from sklearn.cluster import KMeans"
   ]
  },
  {
   "cell_type": "code",
   "execution_count": 12,
   "metadata": {},
   "outputs": [
    {
     "name": "stdout",
     "output_type": "stream",
     "text": [
      "(250, 2)\n"
     ]
    },
    {
     "data": {
      "text/plain": [
       "[<matplotlib.lines.Line2D at 0x1f90392e4a0>]"
      ]
     },
     "execution_count": 12,
     "metadata": {},
     "output_type": "execute_result"
    },
    {
     "data": {
      "image/png": "[encoded data removed]",
      "text/plain": [
       "<Figure size 432x288 with 1 Axes>"
      ]
     },
     "metadata": {
      "needs_background": "light"
     },
     "output_type": "display_data"
    }
   ],
   "source": [
    "arr = np.loadtxt(\"Wellseparated.csv\",delimiter=',')\n",
    "print(arr.shape)\n",
    "plt.plot(arr[:,0],arr[:,1],'.')"
   ]
  },
  {
   "cell_type": "code",
   "execution_count": 40,
   "metadata": {},
   "outputs": [
    {
     "name": "stdout",
     "output_type": "stream",
     "text": [
      "Number of clusters: 2 RS:  0.9999232122972692\n",
      "Number of clusters: 3 RS:  0.9999730485347819\n",
      "Number of clusters: 4 RS:  0.9999883359875482\n",
      "Number of clusters: 5 RS:  0.9999988018474617\n",
      "Number of clusters: 6 RS:  0.9999989462474314\n",
      "Number of clusters: 7 RS:  0.9999990463698625\n",
      "Number of clusters: 8 RS:  0.9999991334913545\n",
      "Number of clusters: 9 RS:  0.9999992221834326\n"
     ]
    }
   ],
   "source": [
    "for j in range(2,10):\n",
    "    kmeans = KMeans(n_clusters=j).fit(arr)\n",
    "    cluster_centres = kmeans.cluster_centers_\n",
    "    sample_labels = kmeans.labels_\n",
    "    data_centre = np.sum(arr,axis = 0)\n",
    "\n",
    "    TSS = arr - data_centre\n",
    "    TSS = np.sum(np.sum(TSS**2,axis = 1))\n",
    "    \n",
    "    SSE = 0\n",
    "    labels_count = np.zeros(j)\n",
    "    for i in range(j):\n",
    "        SSE += np.sum((arr[sample_labels == i] - cluster_centres[i])**2)\n",
    "    \n",
    "    RS = (TSS - SSE)/TSS\n",
    "    print('Number of clusters:',j, 'RS: ',RS)\n"
   ]
  }
 ],
 "metadata": {
  "kernelspec": {
   "display_name": "Python 3.10.8 64-bit",
   "language": "python",
   "name": "python3"
  },
  "language_info": {
   "codemirror_mode": {
    "name": "ipython",
    "version": 3
   },
   "file_extension": ".py",
   "mimetype": "text/x-python",
   "name": "python",
   "nbconvert_exporter": "python",
   "pygments_lexer": "ipython3",
   "version": "3.10.8"
  },
  "orig_nbformat": 4,
  "vscode": {
   "interpreter": {
    "hash": "7157a62e85b7b4197c3acc922ce8503cad50f92a7c60c9bc670f81ada39c5d0f"
   }
  }
 },
 "nbformat": 4,
 "nbformat_minor": 2
}
