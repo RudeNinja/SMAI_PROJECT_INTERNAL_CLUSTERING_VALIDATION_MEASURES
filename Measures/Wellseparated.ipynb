{
 "cells": [
  {
   "cell_type": "code",
   "execution_count": 22,
   "metadata": {},
   "outputs": [],
   "source": [
    "import numpy as np\n",
    "import pandas as pd\n",
    "from matplotlib import pyplot as plt\n",
    "from sklearn.cluster import KMeans"
   ]
  },
  {
   "cell_type": "code",
   "execution_count": 23,
   "metadata": {},
   "outputs": [
    {
     "name": "stdout",
     "output_type": "stream",
     "text": [
      "(250, 2)\n"
     ]
    },
    {
     "data": {
      "text/plain": [
       "[<matplotlib.lines.Line2D at 0x1b4881b6af0>]"
      ]
     },
     "execution_count": 23,
     "metadata": {},
     "output_type": "execute_result"
    },
    {
     "data": {
      "image/png": "[encoded data removed]",
      "text/plain": [
       "<Figure size 640x480 with 1 Axes>"
      ]
     },
     "metadata": {},
     "output_type": "display_data"
    }
   ],
   "source": [
    "arr = np.loadtxt(\"../Datasets/Wellseparated.csv\",delimiter=',')\n",
    "print(arr.shape)\n",
    "plt.plot(arr[:,0],arr[:,1],'.')"
   ]
  },
  {
   "cell_type": "code",
   "execution_count": 24,
   "metadata": {},
   "outputs": [],
   "source": [
    "cluster_centres_list=[]\n",
    "pt_label_list=[]\n",
    "for j in range(2,10):\n",
    "    kmeans = KMeans(n_clusters=j).fit(arr)\n",
    "    cluster_centres = kmeans.cluster_centers_\n",
    "    pt_label = kmeans.labels_\n",
    "    cluster_centres_list.append(cluster_centres)\n",
    "    pt_label_list.append(pt_label)"
   ]
  },
  {
   "cell_type": "markdown",
   "metadata": {},
   "source": [
    "### Root-mean-square std dev"
   ]
  },
  {
   "cell_type": "code",
   "execution_count": 25,
   "metadata": {},
   "outputs": [],
   "source": [
    "#𝑅𝑀𝑆𝑆𝑇𝐷. Follows elbow trend.\n",
    "def RMSSTD(X1,cluster_centres_list,pt_label_list):\n",
    "  for j in range(2,10):\n",
    "    # kmeans = KMeans(n_clusters=j).fit(X1)\n",
    "    # cluster_centres = kmeans.cluster_centers_\n",
    "    # pt_label = kmeans.labels_\n",
    "    ni_arr = np.zeros((j,1))\n",
    "    var = 0\n",
    "    for i in range(j):\n",
    "      ni_arr[i] = np.count_nonzero(pt_label_list[j-2]==i)\n",
    "      sum_ni = np.sum(ni_arr)\n",
    "      var += (np.sum((X1[pt_label_list[j-2]==i]-cluster_centres_list[j-2][i])**2)/(2*sum_ni))\n",
    "    𝑅𝑀𝑆𝑆𝑇𝐷 = var**(0.5)\n",
    "    print('Number of Clusters:',j,' 𝑅𝑀𝑆𝑆𝑇𝐷:',𝑅𝑀𝑆𝑆𝑇𝐷)\n",
    "  return"
   ]
  },
  {
   "cell_type": "code",
   "execution_count": 26,
   "metadata": {},
   "outputs": [
    {
     "name": "stdout",
     "output_type": "stream",
     "text": [
      "Number of Clusters: 2  𝑅𝑀𝑆𝑆𝑇𝐷: 4.275476618144352\n",
      "Number of Clusters: 3  𝑅𝑀𝑆𝑆𝑇𝐷: 2.9226997509547634\n",
      "Number of Clusters: 4  𝑅𝑀𝑆𝑆𝑇𝐷: 1.9738292912788256\n",
      "Number of Clusters: 5  𝑅𝑀𝑆𝑆𝑇𝐷: 0.7152825469581665\n",
      "Number of Clusters: 6  𝑅𝑀𝑆𝑆𝑇𝐷: 0.7065070056617462\n",
      "Number of Clusters: 7  𝑅𝑀𝑆𝑆𝑇𝐷: 0.6791743127679613\n",
      "Number of Clusters: 8  𝑅𝑀𝑆𝑆𝑇𝐷: 0.6892316382229223\n",
      "Number of Clusters: 9  𝑅𝑀𝑆𝑆𝑇𝐷: 0.6315675804839306\n"
     ]
    }
   ],
   "source": [
    "RMSSTD(arr,cluster_centres_list,pt_label_list)"
   ]
  },
  {
   "cell_type": "markdown",
   "metadata": {},
   "source": [
    "### R squared"
   ]
  },
  {
   "cell_type": "code",
   "execution_count": 27,
   "metadata": {},
   "outputs": [],
   "source": [
    "def r_squared(arr,cluster_centres_list,pt_label_list):\n",
    "    for j in range(2,10):\n",
    "        # kmeans = KMeans(n_clusters=j).fit(arr)\n",
    "        # cluster_centres = kmeans.cluster_centers_\n",
    "        # sample_labels = kmeans.labels_\n",
    "        data_centre = np.sum(arr,axis = 0)\n",
    "\n",
    "        TSS = arr - data_centre\n",
    "        TSS = np.sum(np.sum(TSS**2,axis = 1))\n",
    "\n",
    "        SSE = 0\n",
    "        labels_count = np.zeros(j)\n",
    "        for i in range(j):\n",
    "            SSE += np.sum((arr[pt_label_list[j-2] == i] - cluster_centres_list[j-2][i])**2) #(j-2) because j starts from 2 and index starts from 0\n",
    "\n",
    "        RS = (TSS - SSE)/TSS\n",
    "        print('Number of clusters:',j, 'RS: ',RS)\n",
    "    return"
   ]
  },
  {
   "cell_type": "code",
   "execution_count": 28,
   "metadata": {},
   "outputs": [
    {
     "name": "stdout",
     "output_type": "stream",
     "text": [
      "Number of clusters: 2 RS:  0.9999232122972692\n",
      "Number of clusters: 3 RS:  0.9999730485347819\n",
      "Number of clusters: 4 RS:  0.9999883359875482\n",
      "Number of clusters: 5 RS:  0.9999988018474617\n",
      "Number of clusters: 6 RS:  0.9999989465229575\n",
      "Number of clusters: 7 RS:  0.9999990447509591\n",
      "Number of clusters: 8 RS:  0.9999991400801487\n",
      "Number of clusters: 9 RS:  0.9999992251076171\n"
     ]
    }
   ],
   "source": [
    "r_squared(arr,cluster_centres_list,pt_label_list)"
   ]
  },
  {
   "cell_type": "markdown",
   "metadata": {},
   "source": [
    "### Modified Hubert Γ statistic"
   ]
  },
  {
   "cell_type": "code",
   "execution_count": 36,
   "metadata": {},
   "outputs": [],
   "source": [
    "# Modified hubert statistic\n",
    "def modified_hubert_statistic(arr,cluster_centres_list,pt_label_list):\n",
    "    n=arr.shape[0]\n",
    "    for j in range(2,10):\n",
    "        # kmeans = KMeans(n_clusters=j).fit(arr)\n",
    "        # cluster_centres_list = kmeans.cluster_centers_\n",
    "        # pt_label_list = kmeans.labels_#.reshape(arr.shape[0],1)\n",
    "        # print(arr[pt_label==1])\n",
    "        pt_dist = np.zeros((n,n))\n",
    "        cl_dist = np.zeros((n,n))\n",
    "        for i in range(n):\n",
    "            #calculate distance of one point to all other points\n",
    "            pt_dist[i] = np.sum((arr[i]-arr)**2,axis=1)\n",
    "        #replace each point with its cluster\n",
    "        arr1 = np.zeros(arr.shape)\n",
    "        for i in range(j):\n",
    "            arr1[pt_label_list[j-2]==i]=cluster_centres_list[j-2][i]\n",
    "        for i in range(n):\n",
    "            #calculate distance of one point's cluster to all other points' cluster\n",
    "            cl_dist[i] = np.sum((arr1[i]-arr1)**2,axis=1)**0.5\n",
    "        mod_hubert_stat = 2*np.sum(pt_dist*cl_dist)/(n*(n-1))\n",
    "        print('Number of clusters:',j, 'Modified Hubert Statistic: ',mod_hubert_stat)\n",
    "    return "
   ]
  },
  {
   "cell_type": "code",
   "execution_count": 37,
   "metadata": {},
   "outputs": [
    {
     "name": "stdout",
     "output_type": "stream",
     "text": [
      "Number of clusters: 2 Modified Hubert Statistic:  1823.017313555979\n",
      "Number of clusters: 3 Modified Hubert Statistic:  2691.4770438309415\n",
      "Number of clusters: 4 Modified Hubert Statistic:  3004.6743140453464\n",
      "Number of clusters: 5 Modified Hubert Statistic:  3183.984777673449\n",
      "Number of clusters: 6 Modified Hubert Statistic:  3186.577307262577\n",
      "Number of clusters: 7 Modified Hubert Statistic:  3188.232447038702\n",
      "Number of clusters: 8 Modified Hubert Statistic:  3190.468638301177\n",
      "Number of clusters: 9 Modified Hubert Statistic:  3192.577267817099\n"
     ]
    }
   ],
   "source": [
    "modified_hubert_statistic(arr,cluster_centres_list,pt_label_list)"
   ]
  },
  {
   "cell_type": "markdown",
   "metadata": {},
   "source": [
    "### Calinski-Harabasz index"
   ]
  },
  {
   "cell_type": "code",
   "execution_count": 47,
   "metadata": {},
   "outputs": [],
   "source": [
    "# Calinski-Harabasz index\n",
    "def calinski_harabasz_index(arr,cluster_centres_list,pt_label_list):\n",
    "    n=arr.shape[0]\n",
    "    for j in range(2,10):\n",
    "        #calculate distance between cluster centres and dataset cluster\n",
    "        cluster_centres = cluster_centres_list[j-2]\n",
    "        data_centre = np.sum(arr,axis = 0)/arr.shape[0]\n",
    "        #distance between cluster centres and dataset centre\n",
    "        dist_cc_dc = np.sum((cluster_centres - data_centre)**2,axis = 1)\n",
    "        # print(dist_cc_dc)\n",
    "        numerator = 0\n",
    "        denominator = 0\n",
    "        for i in range(j):\n",
    "            #numerator\n",
    "            num_pt = np.count_nonzero(pt_label_list[j-2]==i)\n",
    "            numerator+=num_pt*dist_cc_dc[i]/(j-1)\n",
    "            #denominator\n",
    "            #distance between each point and its cluster centre\n",
    "            dist_pt_cc = np.sum((arr[pt_label_list[j-2]==i]-cluster_centres[i])**2,axis = 1)\n",
    "            denominator+=np.sum(dist_pt_cc)/(n-j)\n",
    "        cal_har_index = numerator/denominator\n",
    "        print('Number of clusters:',j, 'Calinski-Harabasz Index: ',cal_har_index)\n",
    "    return    "
   ]
  },
  {
   "cell_type": "code",
   "execution_count": 48,
   "metadata": {},
   "outputs": [
    {
     "name": "stdout",
     "output_type": "stream",
     "text": [
      "Number of clusters: 2 Calinski-Harabasz Index:  236.11372735695403\n",
      "Number of clusters: 3 Calinski-Harabasz Index:  563.3659198999558\n",
      "Number of clusters: 4 Calinski-Harabasz Index:  971.7880501336255\n",
      "Number of clusters: 5 Calinski-Harabasz Index:  7601.442052469516\n",
      "Number of clusters: 6 Calinski-Harabasz Index:  6894.759122307177\n",
      "Number of clusters: 7 Calinski-Harabasz Index:  6316.258125749031\n",
      "Number of clusters: 8 Calinski-Harabasz Index:  5991.6729980598975\n",
      "Number of clusters: 9 Calinski-Harabasz Index:  5798.725783385461\n"
     ]
    }
   ],
   "source": [
    "calinski_harabasz_index(arr,cluster_centres_list,pt_label_list)"
   ]
  },
  {
   "cell_type": "markdown",
   "metadata": {},
   "source": [
    "### 𝐼 index"
   ]
  },
  {
   "cell_type": "code",
   "execution_count": 71,
   "metadata": {},
   "outputs": [],
   "source": [
    "def I_index(arr,cluster_centres_list,pt_label_list):\n",
    "    #distance between dataset centre and each point\n",
    "    data_centre = np.sum(arr,axis = 0)/arr.shape[0]\n",
    "    dist_dc_pt = np.sum((arr - data_centre)**2,axis = 1)**0.5\n",
    "    sum_dist_dc_pt = np.sum(dist_dc_pt)\n",
    "    print(sum_dist_dc_pt)\n",
    "    #distance of clusters from each other\n",
    "    for j in range(2,10):\n",
    "        cluster_centres = cluster_centres_list[j-2]\n",
    "        dist_cc = np.zeros((j,j))\n",
    "        sum_dist_pt_cc=0\n",
    "        for i in range(j):\n",
    "            dist_cc[i] = np.sum((cluster_centres[i]-cluster_centres)**2,axis=1)**0.5\n",
    "            #distance between point and its cluster centre\n",
    "            dist_pt_cc = np.sum((arr[pt_label_list[j-2]==i]-cluster_centres[i])**2,axis = 1)**0.5\n",
    "            #sum of all such distances\n",
    "            sum_dist_pt_cc += np.sum(dist_pt_cc)\n",
    "        max_sep = np.max(dist_cc)\n",
    "        I = (sum_dist_dc_pt*max_sep/(j*sum_dist_pt_cc))**2\n",
    "        print('Number of clusters:',j, 'I Index: ',I)\n",
    "    return"
   ]
  },
  {
   "cell_type": "code",
   "execution_count": 72,
   "metadata": {},
   "outputs": [
    {
     "name": "stdout",
     "output_type": "stream",
     "text": [
      "1816.107152325697\n",
      "Number of clusters: 2 I Index:  70.34444875677447\n",
      "Number of clusters: 3 I Index:  116.99344432322151\n",
      "Number of clusters: 4 I Index:  300.95766601761665\n",
      "Number of clusters: 5 I Index:  1671.4015430472682\n",
      "Number of clusters: 6 I Index:  1321.6622908474744\n",
      "Number of clusters: 7 I Index:  1088.717156033241\n",
      "Number of clusters: 8 I Index:  949.4037944839162\n",
      "Number of clusters: 9 I Index:  843.7657768496916\n"
     ]
    }
   ],
   "source": [
    "I_index(arr,cluster_centres_list,pt_label_list)"
   ]
  },
  {
   "cell_type": "code",
   "execution_count": null,
   "metadata": {},
   "outputs": [],
   "source": []
  }
 ],
 "metadata": {
  "kernelspec": {
   "display_name": "Python 3.9.7 64-bit",
   "language": "python",
   "name": "python3"
  },
  "language_info": {
   "codemirror_mode": {
    "name": "ipython",
    "version": 3
   },
   "file_extension": ".py",
   "mimetype": "text/x-python",
   "name": "python",
   "nbconvert_exporter": "python",
   "pygments_lexer": "ipython3",
   "version": "3.9.7"
  },
  "orig_nbformat": 4,
  "vscode": {
   "interpreter": {
    "hash": "81794d4967e6c3204c66dcd87b604927b115b27c00565d3d43f05ba2f3a2cb0d"
   }
  }
 },
 "nbformat": 4,
 "nbformat_minor": 2
}
